{
 "cells": [
  {
   "cell_type": "code",
   "execution_count": 1,
   "metadata": {},
   "outputs": [],
   "source": [
    "import sys\n",
    "\n",
    "import metal\n",
    "import os\n",
    "# Import other dependencies\n",
    "import torch\n",
    "import torch.nn as nn\n",
    "import torch.nn.functional as F\n",
    "os.environ['METALHOME'] = '/dfs/scratch1/saelig/slicing/metal/'\n",
    "# Set random seed for notebook\n",
    "SEED = 123"
   ]
  },
  {
   "cell_type": "code",
   "execution_count": 2,
   "metadata": {},
   "outputs": [],
   "source": [
    "%load_ext autoreload\n",
    "%autoreload 2\n",
    "%matplotlib inline"
   ]
  },
  {
   "cell_type": "markdown",
   "metadata": {},
   "source": [
    "# Load Data\n"
   ]
  },
  {
   "cell_type": "code",
   "execution_count": 3,
   "metadata": {},
   "outputs": [],
   "source": [
    "from skimage import io, transform\n",
    "import torchvision.transforms as transforms\n",
    "import numpy as np\n",
    "\n",
    "opj = os.path.join\n",
    "HOME_DIR = '/dfs/scratch1/saelig/slicing/'\n",
    "DATASET_DIR = opj(HOME_DIR,'CUB_200_2011')\n",
    "IMAGES_DIR = opj(DATASET_DIR, 'images')\n",
    "TENSORS_DIR = opj(HOME_DIR, 'birds_data')\n",
    "MODELS_DIR = opj(HOME_DIR, 'birds_models')\n",
    "\n",
    "#Size of eac\n",
    "#image_list = np.loadtxt(os.path.join(DATASET_DIR, 'images.txt'), dtype=str)\n",
    "#train_test_split = np.loadtxt(os.path.join(DATASET_DIR, 'train_test_split.txt'), dtype=int)\n",
    "#labels = np.loadtxt(os.path.join(DATASET_DIR, 'image_class_labels.txt'), dtype=int)\n",
    "\n",
    "\n",
    "train_image_ids = torch.load(opj(TENSORS_DIR,'train_image_ids.pt'))\n",
    "valid_image_ids = torch.load(opj(TENSORS_DIR,'valid_image_ids.pt'))\n",
    "test_image_ids = torch.load(opj(TENSORS_DIR,'test_image_ids.pt'))\n",
    "X_train = torch.load(opj(TENSORS_DIR,'X_train.pt'))\n",
    "X_valid = torch.load(opj(TENSORS_DIR,'X_valid.pt'))\n",
    "X_test = torch.load(opj(TENSORS_DIR,'X_test.pt'))\n",
    "Y_train = torch.load(opj(TENSORS_DIR,'Y_train.pt'))\n",
    "Y_valid = torch.load(opj(TENSORS_DIR,'Y_valid.pt'))\n",
    "Y_test = torch.load(opj(TENSORS_DIR,'Y_test.pt'))\n",
    "\n"
   ]
  },
  {
   "cell_type": "markdown",
   "metadata": {},
   "source": [
    "Let's create the payloads. First we need to put the attribute information into an easy to deal with data structure."
   ]
  },
  {
   "cell_type": "code",
   "execution_count": 4,
   "metadata": {},
   "outputs": [],
   "source": [
    "attrs_array = np.loadtxt(os.path.join(DATASET_DIR, 'attributes/image_attribute_labels.txt'), usecols=(0,1,2), dtype=int)"
   ]
  },
  {
   "cell_type": "markdown",
   "metadata": {},
   "source": [
    "Let's create a dictionary to make it easier to figure out which samples have which attributes."
   ]
  },
  {
   "cell_type": "code",
   "execution_count": 5,
   "metadata": {},
   "outputs": [],
   "source": [
    "NUM_ATTRIBUTES = 312\n",
    "\n",
    "#format: <image_id>,  <attribute_id>,  <is_present>\n",
    "\n",
    "attrs_dict = {} #dict mapping attribute id to a set of image_ids that have that attribute\n",
    "\n",
    "# for attr in range(1, NUM_ATTRIBUTES + 1):\n",
    "#     temp = attrs_array[(attrs_array[:, 1] == attr) & (attrs_array[:,2] == 1)]\n",
    "#     print(temp)\n",
    "#     break\n",
    "\n",
    "for (image_id, attr_id, is_present) in attrs_array:\n",
    "    if is_present == 1:\n",
    "        if attr_id in attrs_dict:\n",
    "            attrs_dict[attr_id].add(image_id)\n",
    "        else:\n",
    "            attrs_dict[attr_id] = {image_id}"
   ]
  },
  {
   "cell_type": "markdown",
   "metadata": {},
   "source": [
    "Create payload abstraction for slices based on the binary attributes."
   ]
  },
  {
   "cell_type": "code",
   "execution_count": 6,
   "metadata": {},
   "outputs": [],
   "source": [
    "from metal.mmtl.payload import Payload\n",
    "from metal.mmtl.data import MmtlDataLoader, MmtlDataset\n",
    "from pprint import pprint\n",
    "\n",
    "payloads = []\n",
    "splits = [\"train\", \"valid\", \"test\"]\n",
    "X_splits = X_train, X_valid, X_test\n",
    "Y_splits = Y_train, Y_valid, Y_test\n",
    "\n",
    "task_name = 'BirdClassificationTask'\n",
    "labels_to_tasks = {\"labelset_gold\": task_name}\n",
    "slice_sizes = {}\n",
    "slice_fns = {}\n",
    "for i in range(3):\n",
    "    payload_name = f\"Payload{i}_{splits[i]}\"\n",
    "    X_dict = {'data': X_splits[i]}\n",
    "    Y_dict = {'labelset_gold': Y_splits[i]}\n",
    "    \n",
    "    if splits[i] == 'train':\n",
    "        image_ids = train_image_ids\n",
    "    elif splits[i] == 'valid':\n",
    "        image_ids = valid_image_ids\n",
    "    else:\n",
    "        image_ids = test_image_ids\n",
    "    for attr_id in range(1, NUM_ATTRIBUTES + 1):\n",
    "        f = lambda x: 1 if x in attrs_dict[attr_id] else 0\n",
    "        def slice_fn(x):\n",
    "            in_attr = map(f, x)\n",
    "            m = np.array(in_attr)\n",
    "            return np.reshape(m, (m.shape[0], 1))\n",
    "        slice_fns[str(attr_id)] = slice_fn\n",
    "        mask = list(map(f, image_ids.tolist()))\n",
    "        if splits[i] == 'train':\n",
    "            slice_sizes[attr_id] = sum(mask) / len(mask) * 100.0\n",
    "            \n",
    "        mask = torch.tensor(mask)\n",
    "        slice_labelset_name = f\"labelset:{attr_id}:pred\"\n",
    "        slice_task_name = f\"{task_name}:{attr_id}:pred\"\n",
    "        Y_dict[slice_labelset_name] = mask * Y_splits[i]\n",
    "        labels_to_tasks[slice_labelset_name] = task_name\n",
    "        \n",
    "        mask[mask == 0] = 2 #to follow Metal convention\n",
    "        slice_labelset_name = f\"labelset:{attr_id}:ind\"\n",
    "        slice_task_name = f\"{task_name}:{attr_id}:ind\"\n",
    "        Y_dict[slice_labelset_name] = mask \n",
    "        labels_to_tasks[slice_labelset_name] = None\n",
    "        \n",
    "    \n",
    "    dataset = MmtlDataset(X_dict, Y_dict)\n",
    "    data_loader = MmtlDataLoader(dataset, batch_size=32)\n",
    "    payload = Payload(payload_name, data_loader, labels_to_tasks, splits[i])\n",
    "    payloads.append(payload)\n"
   ]
  },
  {
   "cell_type": "markdown",
   "metadata": {},
   "source": [
    "Let's load our baseline model"
   ]
  },
  {
   "cell_type": "code",
   "execution_count": 15,
   "metadata": {},
   "outputs": [],
   "source": [
    "model = torch.load(opj(MODELS_DIR,'resnet18_lr_1e-3_patience10_shuffled_fc_separated.pt')) #achieves 17% accuracy on test set"
   ]
  },
  {
   "cell_type": "code",
   "execution_count": 16,
   "metadata": {},
   "outputs": [
    {
     "name": "stdout",
     "output_type": "stream",
     "text": [
      "{'BirdClassificationTask/Payload1_valid/labelset_gold/accuracy': 0.2268557130942452, 'BirdClassificationTask/Payload1_valid/labelset:1:pred/accuracy': 0.25925925925925924, 'BirdClassificationTask/Payload1_valid/labelset:2:pred/accuracy': 0.30344827586206896, 'BirdClassificationTask/Payload1_valid/labelset:3:pred/accuracy': 0.3157894736842105, 'BirdClassificationTask/Payload1_valid/labelset:4:pred/accuracy': 0.16, 'BirdClassificationTask/Payload1_valid/labelset:5:pred/accuracy': 0.16901408450704225, 'BirdClassificationTask/Payload1_valid/labelset:6:pred/accuracy': 0.2222222222222222, 'BirdClassificationTask/Payload1_valid/labelset:7:pred/accuracy': 0.20512820512820512, 'BirdClassificationTask/Payload1_valid/labelset:8:pred/accuracy': 0.2314540059347181, 'BirdClassificationTask/Payload1_valid/labelset:9:pred/accuracy': 0.3103448275862069, 'BirdClassificationTask/Payload1_valid/labelset:10:pred/accuracy': 0.2459016393442623, 'BirdClassificationTask/Payload1_valid/labelset:11:pred/accuracy': 0.1609907120743034, 'BirdClassificationTask/Payload1_valid/labelset:12:pred/accuracy': 0.3076923076923077, 'BirdClassificationTask/Payload1_valid/labelset:13:pred/accuracy': 0.0, 'BirdClassificationTask/Payload1_valid/labelset:14:pred/accuracy': 0.3125, 'BirdClassificationTask/Payload1_valid/labelset:15:pred/accuracy': 0.1894150417827298, 'BirdClassificationTask/Payload1_valid/labelset:16:pred/accuracy': 0.3063063063063063, 'BirdClassificationTask/Payload1_valid/labelset:17:pred/accuracy': 0.17543859649122806, 'BirdClassificationTask/Payload1_valid/labelset:18:pred/accuracy': 0.4166666666666667, 'BirdClassificationTask/Payload1_valid/labelset:19:pred/accuracy': 0.0, 'BirdClassificationTask/Payload1_valid/labelset:20:pred/accuracy': 0.3448275862068966, 'BirdClassificationTask/Payload1_valid/labelset:21:pred/accuracy': 0.27586206896551724, 'BirdClassificationTask/Payload1_valid/labelset:22:pred/accuracy': 0.3167701863354037, 'BirdClassificationTask/Payload1_valid/labelset:23:pred/accuracy': 0.375, 'BirdClassificationTask/Payload1_valid/labelset:24:pred/accuracy': 0.1643835616438356, 'BirdClassificationTask/Payload1_valid/labelset:25:pred/accuracy': 0.2318840579710145, 'BirdClassificationTask/Payload1_valid/labelset:26:pred/accuracy': 0.19047619047619047, 'BirdClassificationTask/Payload1_valid/labelset:27:pred/accuracy': 0.3076923076923077, 'BirdClassificationTask/Payload1_valid/labelset:28:pred/accuracy': 0.0, 'BirdClassificationTask/Payload1_valid/labelset:29:pred/accuracy': 0.25, 'BirdClassificationTask/Payload1_valid/labelset:30:pred/accuracy': 0.19174041297935104, 'BirdClassificationTask/Payload1_valid/labelset:31:pred/accuracy': 0.24786324786324787, 'BirdClassificationTask/Payload1_valid/labelset:32:pred/accuracy': 0.1935483870967742, 'BirdClassificationTask/Payload1_valid/labelset:33:pred/accuracy': 0.3333333333333333, 'BirdClassificationTask/Payload1_valid/labelset:34:pred/accuracy': 0.0, 'BirdClassificationTask/Payload1_valid/labelset:35:pred/accuracy': 0.20833333333333334, 'BirdClassificationTask/Payload1_valid/labelset:36:pred/accuracy': 0.2993492407809111, 'BirdClassificationTask/Payload1_valid/labelset:37:pred/accuracy': 0.3102189781021898, 'BirdClassificationTask/Payload1_valid/labelset:38:pred/accuracy': 0.41379310344827586, 'BirdClassificationTask/Payload1_valid/labelset:39:pred/accuracy': 0.16304347826086957, 'BirdClassificationTask/Payload1_valid/labelset:40:pred/accuracy': 0.22727272727272727, 'BirdClassificationTask/Payload1_valid/labelset:41:pred/accuracy': 0.16535433070866143, 'BirdClassificationTask/Payload1_valid/labelset:42:pred/accuracy': 0.23809523809523808, 'BirdClassificationTask/Payload1_valid/labelset:43:pred/accuracy': 0.0, 'BirdClassificationTask/Payload1_valid/labelset:44:pred/accuracy': 0.36363636363636365, 'BirdClassificationTask/Payload1_valid/labelset:45:pred/accuracy': 0.1703056768558952, 'BirdClassificationTask/Payload1_valid/labelset:46:pred/accuracy': 0.29891304347826086, 'BirdClassificationTask/Payload1_valid/labelset:47:pred/accuracy': 0.16129032258064516, 'BirdClassificationTask/Payload1_valid/labelset:48:pred/accuracy': 0.15384615384615385, 'BirdClassificationTask/Payload1_valid/labelset:49:pred/accuracy': 0.0, 'BirdClassificationTask/Payload1_valid/labelset:50:pred/accuracy': 0.22857142857142856, 'BirdClassificationTask/Payload1_valid/labelset:51:pred/accuracy': 0.20772946859903382, 'BirdClassificationTask/Payload1_valid/labelset:52:pred/accuracy': 0.2375, 'BirdClassificationTask/Payload1_valid/labelset:53:pred/accuracy': 0.3958333333333333, 'BirdClassificationTask/Payload1_valid/labelset:54:pred/accuracy': 0.1951219512195122, 'BirdClassificationTask/Payload1_valid/labelset:55:pred/accuracy': 0.24807395993836673, 'BirdClassificationTask/Payload1_valid/labelset:56:pred/accuracy': 0.1728395061728395, 'BirdClassificationTask/Payload1_valid/labelset:57:pred/accuracy': 0.19205298013245034, 'BirdClassificationTask/Payload1_valid/labelset:58:pred/accuracy': 0.24324324324324326, 'BirdClassificationTask/Payload1_valid/labelset:59:pred/accuracy': 0.3137254901960784, 'BirdClassificationTask/Payload1_valid/labelset:60:pred/accuracy': 0.16956521739130434, 'BirdClassificationTask/Payload1_valid/labelset:61:pred/accuracy': 0.375, 'BirdClassificationTask/Payload1_valid/labelset:62:pred/accuracy': 0.0, 'BirdClassificationTask/Payload1_valid/labelset:63:pred/accuracy': 0.3333333333333333, 'BirdClassificationTask/Payload1_valid/labelset:64:pred/accuracy': 0.1909722222222222, 'BirdClassificationTask/Payload1_valid/labelset:65:pred/accuracy': 0.2727272727272727, 'BirdClassificationTask/Payload1_valid/labelset:66:pred/accuracy': 0.1896551724137931, 'BirdClassificationTask/Payload1_valid/labelset:67:pred/accuracy': 0.34782608695652173, 'BirdClassificationTask/Payload1_valid/labelset:68:pred/accuracy': 0.16666666666666666, 'BirdClassificationTask/Payload1_valid/labelset:69:pred/accuracy': 0.2857142857142857, 'BirdClassificationTask/Payload1_valid/labelset:70:pred/accuracy': 0.31268436578171094, 'BirdClassificationTask/Payload1_valid/labelset:71:pred/accuracy': 0.3072289156626506, 'BirdClassificationTask/Payload1_valid/labelset:72:pred/accuracy': 0.38095238095238093, 'BirdClassificationTask/Payload1_valid/labelset:73:pred/accuracy': 0.19662921348314608, 'BirdClassificationTask/Payload1_valid/labelset:74:pred/accuracy': 0.14285714285714285, 'BirdClassificationTask/Payload1_valid/labelset:75:pred/accuracy': 0.1958041958041958, 'BirdClassificationTask/Payload1_valid/labelset:76:pred/accuracy': 0.23268698060941828, 'BirdClassificationTask/Payload1_valid/labelset:77:pred/accuracy': 0.18095238095238095, 'BirdClassificationTask/Payload1_valid/labelset:78:pred/accuracy': 0.25742574257425743, 'BirdClassificationTask/Payload1_valid/labelset:79:pred/accuracy': 0.2403846153846154, 'BirdClassificationTask/Payload1_valid/labelset:80:pred/accuracy': 0.23809523809523808, 'BirdClassificationTask/Payload1_valid/labelset:81:pred/accuracy': 0.14361702127659576, 'BirdClassificationTask/Payload1_valid/labelset:82:pred/accuracy': 0.26666666666666666, 'BirdClassificationTask/Payload1_valid/labelset:83:pred/accuracy': 0.25, 'BirdClassificationTask/Payload1_valid/labelset:84:pred/accuracy': 0.5, 'BirdClassificationTask/Payload1_valid/labelset:85:pred/accuracy': 0.18141592920353983, 'BirdClassificationTask/Payload1_valid/labelset:86:pred/accuracy': 0.125, 'BirdClassificationTask/Payload1_valid/labelset:87:pred/accuracy': 0.17777777777777778, 'BirdClassificationTask/Payload1_valid/labelset:88:pred/accuracy': 0.26666666666666666, 'BirdClassificationTask/Payload1_valid/labelset:89:pred/accuracy': 0.1, 'BirdClassificationTask/Payload1_valid/labelset:90:pred/accuracy': 0.2, 'BirdClassificationTask/Payload1_valid/labelset:91:pred/accuracy': 0.28525641025641024, 'BirdClassificationTask/Payload1_valid/labelset:92:pred/accuracy': 0.2638888888888889, 'BirdClassificationTask/Payload1_valid/labelset:93:pred/accuracy': 0.35294117647058826, 'BirdClassificationTask/Payload1_valid/labelset:94:pred/accuracy': 0.19166666666666668, 'BirdClassificationTask/Payload1_valid/labelset:95:pred/accuracy': 0.16129032258064516, 'BirdClassificationTask/Payload1_valid/labelset:96:pred/accuracy': 0.21621621621621623, 'BirdClassificationTask/Payload1_valid/labelset:97:pred/accuracy': 0.41379310344827586, 'BirdClassificationTask/Payload1_valid/labelset:98:pred/accuracy': 0.3148148148148148, 'BirdClassificationTask/Payload1_valid/labelset:99:pred/accuracy': 0.38095238095238093, 'BirdClassificationTask/Payload1_valid/labelset:100:pred/accuracy': 0.20666666666666667, 'BirdClassificationTask/Payload1_valid/labelset:101:pred/accuracy': 0.18181818181818182, 'BirdClassificationTask/Payload1_valid/labelset:102:pred/accuracy': 0.22847682119205298, 'BirdClassificationTask/Payload1_valid/labelset:103:pred/accuracy': 0.2595419847328244, 'BirdClassificationTask/Payload1_valid/labelset:104:pred/accuracy': 0.16304347826086957, 'BirdClassificationTask/Payload1_valid/labelset:105:pred/accuracy': 0.2777777777777778, 'BirdClassificationTask/Payload1_valid/labelset:106:pred/accuracy': 0.2962962962962963, 'BirdClassificationTask/Payload1_valid/labelset:107:pred/accuracy': 0.16891891891891891, 'BirdClassificationTask/Payload1_valid/labelset:108:pred/accuracy': 0.3333333333333333, 'BirdClassificationTask/Payload1_valid/labelset:109:pred/accuracy': 0.0, 'BirdClassificationTask/Payload1_valid/labelset:110:pred/accuracy': 0.4090909090909091, 'BirdClassificationTask/Payload1_valid/labelset:111:pred/accuracy': 0.17467248908296942, 'BirdClassificationTask/Payload1_valid/labelset:112:pred/accuracy': 0.28484848484848485, 'BirdClassificationTask/Payload1_valid/labelset:113:pred/accuracy': 0.13793103448275862, 'BirdClassificationTask/Payload1_valid/labelset:114:pred/accuracy': 0.2, 'BirdClassificationTask/Payload1_valid/labelset:115:pred/accuracy': 0.25, 'BirdClassificationTask/Payload1_valid/labelset:116:pred/accuracy': 0.28125, 'BirdClassificationTask/Payload1_valid/labelset:117:pred/accuracy': 0.20491803278688525, 'BirdClassificationTask/Payload1_valid/labelset:118:pred/accuracy': 0.23636363636363636, 'BirdClassificationTask/Payload1_valid/labelset:119:pred/accuracy': 0.3953488372093023, 'BirdClassificationTask/Payload1_valid/labelset:120:pred/accuracy': 0.19444444444444445, 'BirdClassificationTask/Payload1_valid/labelset:121:pred/accuracy': 0.1875, 'BirdClassificationTask/Payload1_valid/labelset:122:pred/accuracy': 0.1919191919191919, 'BirdClassificationTask/Payload1_valid/labelset:123:pred/accuracy': 0.4117647058823529, 'BirdClassificationTask/Payload1_valid/labelset:124:pred/accuracy': 0.0, 'BirdClassificationTask/Payload1_valid/labelset:125:pred/accuracy': 0.3, 'BirdClassificationTask/Payload1_valid/labelset:126:pred/accuracy': 0.12755102040816327, 'BirdClassificationTask/Payload1_valid/labelset:127:pred/accuracy': 0.2916666666666667, 'BirdClassificationTask/Payload1_valid/labelset:128:pred/accuracy': 0.18181818181818182, 'BirdClassificationTask/Payload1_valid/labelset:129:pred/accuracy': 0.23076923076923078, 'BirdClassificationTask/Payload1_valid/labelset:130:pred/accuracy': 0.0, 'BirdClassificationTask/Payload1_valid/labelset:131:pred/accuracy': 0.2631578947368421, 'BirdClassificationTask/Payload1_valid/labelset:132:pred/accuracy': 0.2608695652173913, 'BirdClassificationTask/Payload1_valid/labelset:133:pred/accuracy': 0.2176039119804401, 'BirdClassificationTask/Payload1_valid/labelset:134:pred/accuracy': 0.4782608695652174, 'BirdClassificationTask/Payload1_valid/labelset:135:pred/accuracy': 0.14375, 'BirdClassificationTask/Payload1_valid/labelset:136:pred/accuracy': 0.42857142857142855, 'BirdClassificationTask/Payload1_valid/labelset:137:pred/accuracy': 0.18181818181818182, 'BirdClassificationTask/Payload1_valid/labelset:138:pred/accuracy': 0.0, 'BirdClassificationTask/Payload1_valid/labelset:139:pred/accuracy': 0.6153846153846154, 'BirdClassificationTask/Payload1_valid/labelset:140:pred/accuracy': 0.08333333333333333, 'BirdClassificationTask/Payload1_valid/labelset:141:pred/accuracy': 0.2413793103448276, 'BirdClassificationTask/Payload1_valid/labelset:142:pred/accuracy': 0.0, 'BirdClassificationTask/Payload1_valid/labelset:143:pred/accuracy': 0.0, 'BirdClassificationTask/Payload1_valid/labelset:144:pred/accuracy': 0.2, 'BirdClassificationTask/Payload1_valid/labelset:145:pred/accuracy': 0.17647058823529413, 'BirdClassificationTask/Payload1_valid/labelset:146:pred/accuracy': 0.2287179487179487, 'BirdClassificationTask/Payload1_valid/labelset:147:pred/accuracy': 0.2972972972972973, 'BirdClassificationTask/Payload1_valid/labelset:148:pred/accuracy': 0.37142857142857144, 'BirdClassificationTask/Payload1_valid/labelset:149:pred/accuracy': 0.05263157894736842, 'BirdClassificationTask/Payload1_valid/labelset:150:pred/accuracy': 0.21363636363636362, 'BirdClassificationTask/Payload1_valid/labelset:151:pred/accuracy': 0.2537313432835821, 'BirdClassificationTask/Payload1_valid/labelset:152:pred/accuracy': 0.23511904761904762, 'BirdClassificationTask/Payload1_valid/labelset:153:pred/accuracy': 0.2222222222222222, 'BirdClassificationTask/Payload1_valid/labelset:154:pred/accuracy': 0.1391304347826087, 'BirdClassificationTask/Payload1_valid/labelset:155:pred/accuracy': 0.375, 'BirdClassificationTask/Payload1_valid/labelset:156:pred/accuracy': 0.2222222222222222, 'BirdClassificationTask/Payload1_valid/labelset:157:pred/accuracy': 0.375, 'BirdClassificationTask/Payload1_valid/labelset:158:pred/accuracy': 0.17105263157894737, 'BirdClassificationTask/Payload1_valid/labelset:159:pred/accuracy': 0.275, 'BirdClassificationTask/Payload1_valid/labelset:160:pred/accuracy': 0.12903225806451613, 'BirdClassificationTask/Payload1_valid/labelset:161:pred/accuracy': 0.3, 'BirdClassificationTask/Payload1_valid/labelset:162:pred/accuracy': 0.0, 'BirdClassificationTask/Payload1_valid/labelset:163:pred/accuracy': 0.16666666666666666, 'BirdClassificationTask/Payload1_valid/labelset:164:pred/accuracy': 0.26649076517150394, 'BirdClassificationTask/Payload1_valid/labelset:165:pred/accuracy': 0.2236842105263158, 'BirdClassificationTask/Payload1_valid/labelset:166:pred/accuracy': 0.45, 'BirdClassificationTask/Payload1_valid/labelset:167:pred/accuracy': 0.13013698630136986, 'BirdClassificationTask/Payload1_valid/labelset:168:pred/accuracy': 0.3181818181818182, 'BirdClassificationTask/Payload1_valid/labelset:169:pred/accuracy': 0.15736040609137056, 'BirdClassificationTask/Payload1_valid/labelset:170:pred/accuracy': 0.2631578947368421, 'BirdClassificationTask/Payload1_valid/labelset:171:pred/accuracy': 0.0, 'BirdClassificationTask/Payload1_valid/labelset:172:pred/accuracy': 0.25, 'BirdClassificationTask/Payload1_valid/labelset:173:pred/accuracy': 0.20553359683794467, 'BirdClassificationTask/Payload1_valid/labelset:174:pred/accuracy': 0.19402985074626866, 'BirdClassificationTask/Payload1_valid/labelset:175:pred/accuracy': 0.2222222222222222, 'BirdClassificationTask/Payload1_valid/labelset:176:pred/accuracy': 0.2857142857142857, 'BirdClassificationTask/Payload1_valid/labelset:177:pred/accuracy': 0.1111111111111111, 'BirdClassificationTask/Payload1_valid/labelset:178:pred/accuracy': 0.4, 'BirdClassificationTask/Payload1_valid/labelset:179:pred/accuracy': 0.27882037533512066, 'BirdClassificationTask/Payload1_valid/labelset:180:pred/accuracy': 0.26785714285714285, 'BirdClassificationTask/Payload1_valid/labelset:181:pred/accuracy': 0.35714285714285715, 'BirdClassificationTask/Payload1_valid/labelset:182:pred/accuracy': 0.2076923076923077, 'BirdClassificationTask/Payload1_valid/labelset:183:pred/accuracy': 0.2631578947368421, 'BirdClassificationTask/Payload1_valid/labelset:184:pred/accuracy': 0.16299559471365638, 'BirdClassificationTask/Payload1_valid/labelset:185:pred/accuracy': 0.34615384615384615, 'BirdClassificationTask/Payload1_valid/labelset:186:pred/accuracy': 0.2, 'BirdClassificationTask/Payload1_valid/labelset:187:pred/accuracy': 0.25, 'BirdClassificationTask/Payload1_valid/labelset:188:pred/accuracy': 0.15357142857142858, 'BirdClassificationTask/Payload1_valid/labelset:189:pred/accuracy': 0.2549019607843137, 'BirdClassificationTask/Payload1_valid/labelset:190:pred/accuracy': 0.10869565217391304, 'BirdClassificationTask/Payload1_valid/labelset:191:pred/accuracy': 0.3333333333333333, 'BirdClassificationTask/Payload1_valid/labelset:192:pred/accuracy': 0.0, 'BirdClassificationTask/Payload1_valid/labelset:193:pred/accuracy': 0.2, 'BirdClassificationTask/Payload1_valid/labelset:194:pred/accuracy': 0.27564102564102566, 'BirdClassificationTask/Payload1_valid/labelset:195:pred/accuracy': 0.2490118577075099, 'BirdClassificationTask/Payload1_valid/labelset:196:pred/accuracy': 0.45454545454545453, 'BirdClassificationTask/Payload1_valid/labelset:197:pred/accuracy': 0.1989247311827957, 'BirdClassificationTask/Payload1_valid/labelset:198:pred/accuracy': 0.3181818181818182, 'BirdClassificationTask/Payload1_valid/labelset:199:pred/accuracy': 0.14953271028037382, 'BirdClassificationTask/Payload1_valid/labelset:200:pred/accuracy': 0.3125, 'BirdClassificationTask/Payload1_valid/labelset:201:pred/accuracy': 0.0, 'BirdClassificationTask/Payload1_valid/labelset:202:pred/accuracy': 0.3125, 'BirdClassificationTask/Payload1_valid/labelset:203:pred/accuracy': 0.16, 'BirdClassificationTask/Payload1_valid/labelset:204:pred/accuracy': 0.2934131736526946, 'BirdClassificationTask/Payload1_valid/labelset:205:pred/accuracy': 0.1724137931034483, 'BirdClassificationTask/Payload1_valid/labelset:206:pred/accuracy': 0.14285714285714285, 'BirdClassificationTask/Payload1_valid/labelset:207:pred/accuracy': 0.125, 'BirdClassificationTask/Payload1_valid/labelset:208:pred/accuracy': 0.30303030303030304, 'BirdClassificationTask/Payload1_valid/labelset:209:pred/accuracy': 0.20606060606060606, 'BirdClassificationTask/Payload1_valid/labelset:210:pred/accuracy': 0.22727272727272727, 'BirdClassificationTask/Payload1_valid/labelset:211:pred/accuracy': 0.4146341463414634, 'BirdClassificationTask/Payload1_valid/labelset:212:pred/accuracy': 0.1708542713567839, 'BirdClassificationTask/Payload1_valid/labelset:213:pred/accuracy': 0.22514619883040934, 'BirdClassificationTask/Payload1_valid/labelset:214:pred/accuracy': 0.21774193548387097, 'BirdClassificationTask/Payload1_valid/labelset:215:pred/accuracy': 0.30666666666666664, 'BirdClassificationTask/Payload1_valid/labelset:216:pred/accuracy': 0.22580645161290322, 'BirdClassificationTask/Payload1_valid/labelset:217:pred/accuracy': 0.17142857142857143, 'BirdClassificationTask/Payload1_valid/labelset:218:pred/accuracy': 0.16666666666666666, 'BirdClassificationTask/Payload1_valid/labelset:219:pred/accuracy': 0.2328125, 'BirdClassificationTask/Payload1_valid/labelset:220:pred/accuracy': 0.38095238095238093, 'BirdClassificationTask/Payload1_valid/labelset:221:pred/accuracy': 0.24663677130044842, 'BirdClassificationTask/Payload1_valid/labelset:222:pred/accuracy': 0.19413919413919414, 'BirdClassificationTask/Payload1_valid/labelset:223:pred/accuracy': 0.15384615384615385, 'BirdClassificationTask/Payload1_valid/labelset:224:pred/accuracy': 0.25, 'BirdClassificationTask/Payload1_valid/labelset:225:pred/accuracy': 0.5, 'BirdClassificationTask/Payload1_valid/labelset:226:pred/accuracy': 0.30666666666666664, 'BirdClassificationTask/Payload1_valid/labelset:227:pred/accuracy': 0.0, 'BirdClassificationTask/Payload1_valid/labelset:228:pred/accuracy': 0.13402061855670103, 'BirdClassificationTask/Payload1_valid/labelset:229:pred/accuracy': 0.22033898305084745, 'BirdClassificationTask/Payload1_valid/labelset:230:pred/accuracy': 0.23076923076923078, 'BirdClassificationTask/Payload1_valid/labelset:231:pred/accuracy': 0.2911392405063291, 'BirdClassificationTask/Payload1_valid/labelset:232:pred/accuracy': 0.25, 'BirdClassificationTask/Payload1_valid/labelset:233:pred/accuracy': 0.18032786885245902, 'BirdClassificationTask/Payload1_valid/labelset:234:pred/accuracy': 0.15384615384615385, 'BirdClassificationTask/Payload1_valid/labelset:235:pred/accuracy': 0.22, 'BirdClassificationTask/Payload1_valid/labelset:236:pred/accuracy': 0.23356401384083045, 'BirdClassificationTask/Payload1_valid/labelset:237:pred/accuracy': 0.2374429223744292, 'BirdClassificationTask/Payload1_valid/labelset:238:pred/accuracy': 0.25806451612903225, 'BirdClassificationTask/Payload1_valid/labelset:239:pred/accuracy': 0.21354166666666666, 'BirdClassificationTask/Payload1_valid/labelset:240:pred/accuracy': 0.2911392405063291, 'BirdClassificationTask/Payload1_valid/labelset:241:pred/accuracy': 0.25442477876106195, 'BirdClassificationTask/Payload1_valid/labelset:242:pred/accuracy': 0.18867924528301888, 'BirdClassificationTask/Payload1_valid/labelset:243:pred/accuracy': 0.1891891891891892, 'BirdClassificationTask/Payload1_valid/labelset:244:pred/accuracy': 0.23616236162361623, 'BirdClassificationTask/Payload1_valid/labelset:245:pred/accuracy': 0.2467343976777939, 'BirdClassificationTask/Payload1_valid/labelset:246:pred/accuracy': 0.14754098360655737, 'BirdClassificationTask/Payload1_valid/labelset:247:pred/accuracy': 0.176, 'BirdClassificationTask/Payload1_valid/labelset:248:pred/accuracy': 0.2388888888888889, 'BirdClassificationTask/Payload1_valid/labelset:249:pred/accuracy': 0.21052631578947367, 'BirdClassificationTask/Payload1_valid/labelset:250:pred/accuracy': 0.17434210526315788, 'BirdClassificationTask/Payload1_valid/labelset:251:pred/accuracy': 0.25925925925925924, 'BirdClassificationTask/Payload1_valid/labelset:252:pred/accuracy': 0.18181818181818182, 'BirdClassificationTask/Payload1_valid/labelset:253:pred/accuracy': 0.21739130434782608, 'BirdClassificationTask/Payload1_valid/labelset:254:pred/accuracy': 0.1876750700280112, 'BirdClassificationTask/Payload1_valid/labelset:255:pred/accuracy': 0.3142857142857143, 'BirdClassificationTask/Payload1_valid/labelset:256:pred/accuracy': 0.16176470588235295, 'BirdClassificationTask/Payload1_valid/labelset:257:pred/accuracy': 0.3181818181818182, 'BirdClassificationTask/Payload1_valid/labelset:258:pred/accuracy': 0.0, 'BirdClassificationTask/Payload1_valid/labelset:259:pred/accuracy': 0.30952380952380953, 'BirdClassificationTask/Payload1_valid/labelset:260:pred/accuracy': 0.2903981264637002, 'BirdClassificationTask/Payload1_valid/labelset:261:pred/accuracy': 0.26256983240223464, 'BirdClassificationTask/Payload1_valid/labelset:262:pred/accuracy': 0.425, 'BirdClassificationTask/Payload1_valid/labelset:263:pred/accuracy': 0.17903930131004367, 'BirdClassificationTask/Payload1_valid/labelset:264:pred/accuracy': 0.07142857142857142, 'BirdClassificationTask/Payload1_valid/labelset:265:pred/accuracy': 0.2403846153846154, 'BirdClassificationTask/Payload1_valid/labelset:266:pred/accuracy': 0.3333333333333333, 'BirdClassificationTask/Payload1_valid/labelset:267:pred/accuracy': 0.6666666666666666, 'BirdClassificationTask/Payload1_valid/labelset:268:pred/accuracy': 0.14285714285714285, 'BirdClassificationTask/Payload1_valid/labelset:269:pred/accuracy': 0.2360248447204969, 'BirdClassificationTask/Payload1_valid/labelset:270:pred/accuracy': 0.19230769230769232, 'BirdClassificationTask/Payload1_valid/labelset:271:pred/accuracy': 0.1111111111111111, 'BirdClassificationTask/Payload1_valid/labelset:272:pred/accuracy': 0.5, 'BirdClassificationTask/Payload1_valid/labelset:273:pred/accuracy': 0.17857142857142858, 'BirdClassificationTask/Payload1_valid/labelset:274:pred/accuracy': 0.18181818181818182, 'BirdClassificationTask/Payload1_valid/labelset:275:pred/accuracy': 0.22580645161290322, 'BirdClassificationTask/Payload1_valid/labelset:276:pred/accuracy': 0.20930232558139536, 'BirdClassificationTask/Payload1_valid/labelset:277:pred/accuracy': 0.16666666666666666, 'BirdClassificationTask/Payload1_valid/labelset:278:pred/accuracy': 0.2011173184357542, 'BirdClassificationTask/Payload1_valid/labelset:279:pred/accuracy': 0.125, 'BirdClassificationTask/Payload1_valid/labelset:280:pred/accuracy': 0.2018348623853211, 'BirdClassificationTask/Payload1_valid/labelset:281:pred/accuracy': 0.23076923076923078, 'BirdClassificationTask/Payload1_valid/labelset:282:pred/accuracy': 0.0, 'BirdClassificationTask/Payload1_valid/labelset:283:pred/accuracy': 0.13333333333333333, 'BirdClassificationTask/Payload1_valid/labelset:284:pred/accuracy': 0.19817073170731708, 'BirdClassificationTask/Payload1_valid/labelset:285:pred/accuracy': 0.3026315789473684, 'BirdClassificationTask/Payload1_valid/labelset:286:pred/accuracy': 0.15384615384615385, 'BirdClassificationTask/Payload1_valid/labelset:287:pred/accuracy': 0.0, 'BirdClassificationTask/Payload1_valid/labelset:288:pred/accuracy': 0.36363636363636365, 'BirdClassificationTask/Payload1_valid/labelset:289:pred/accuracy': 0.19318181818181818, 'BirdClassificationTask/Payload1_valid/labelset:290:pred/accuracy': 0.25147347740667975, 'BirdClassificationTask/Payload1_valid/labelset:291:pred/accuracy': 0.25, 'BirdClassificationTask/Payload1_valid/labelset:292:pred/accuracy': 0.23333333333333334, 'BirdClassificationTask/Payload1_valid/labelset:293:pred/accuracy': 0.18974358974358974, 'BirdClassificationTask/Payload1_valid/labelset:294:pred/accuracy': 0.22033898305084745, 'BirdClassificationTask/Payload1_valid/labelset:295:pred/accuracy': 0.15261044176706828, 'BirdClassificationTask/Payload1_valid/labelset:296:pred/accuracy': 0.36, 'BirdClassificationTask/Payload1_valid/labelset:297:pred/accuracy': 0.16666666666666666, 'BirdClassificationTask/Payload1_valid/labelset:298:pred/accuracy': 0.2916666666666667, 'BirdClassificationTask/Payload1_valid/labelset:299:pred/accuracy': 0.1752988047808765, 'BirdClassificationTask/Payload1_valid/labelset:300:pred/accuracy': 0.26732673267326734, 'BirdClassificationTask/Payload1_valid/labelset:301:pred/accuracy': 0.1388888888888889, 'BirdClassificationTask/Payload1_valid/labelset:302:pred/accuracy': 0.3, 'BirdClassificationTask/Payload1_valid/labelset:303:pred/accuracy': 0.2857142857142857, 'BirdClassificationTask/Payload1_valid/labelset:304:pred/accuracy': 0.08, 'BirdClassificationTask/Payload1_valid/labelset:305:pred/accuracy': 0.27692307692307694, 'BirdClassificationTask/Payload1_valid/labelset:306:pred/accuracy': 0.21374045801526717, 'BirdClassificationTask/Payload1_valid/labelset:307:pred/accuracy': 0.47058823529411764, 'BirdClassificationTask/Payload1_valid/labelset:308:pred/accuracy': 0.136986301369863, 'BirdClassificationTask/Payload1_valid/labelset:309:pred/accuracy': 0.23391812865497075, 'BirdClassificationTask/Payload1_valid/labelset:310:pred/accuracy': 0.2564102564102564, 'BirdClassificationTask/Payload1_valid/labelset:311:pred/accuracy': 0.21070234113712374, 'BirdClassificationTask/Payload1_valid/labelset:312:pred/accuracy': 0.2658959537572254}\n"
     ]
    }
   ],
   "source": [
    "accs_per_slice = model.score(payloads[1], metrics=[]) #score on validation set\n",
    "print(accs_per_slice)\n",
    "del accs_per_slice['BirdClassificationTask/Payload1_valid/labelset_gold/accuracy']"
   ]
  },
  {
   "cell_type": "code",
   "execution_count": 17,
   "metadata": {},
   "outputs": [],
   "source": [
    "\n",
    "accs_per_slice_list = list(accs_per_slice.items())\n",
    "accs_per_slice_list = list(map(lambda p: (p[0].split(':')[1], p[1]), accs_per_slice_list))\n",
    "s = sorted(accs_per_slice_list, key=lambda x: x[1])\n",
    "import csv\n",
    "with open('slices.csv', 'w', newline='') as csvfile:\n",
    "    w = csv.writer(csvfile, delimiter=',')\n",
    "    w.writerow(['Attribute ID', 'Accuracy','Size (%)'])\n",
    "    for row in s:\n",
    "        attr_id, acc = row\n",
    "        w.writerow([attr_id, acc, slice_sizes[int(attr_id)]])\n",
    "\n"
   ]
  },
  {
   "cell_type": "markdown",
   "metadata": {},
   "source": [
    "## Slicing Models"
   ]
  },
  {
   "cell_type": "code",
   "execution_count": 18,
   "metadata": {},
   "outputs": [
    {
     "name": "stdout",
     "output_type": "stream",
     "text": [
      "{'labelset_gold': tensor([  1,   1,   1,  ..., 200, 200, 200]), 'labelset:1:pred': tensor([0, 0, 0,  ..., 0, 0, 0]), 'labelset:1:ind': tensor([2, 2, 2,  ..., 2, 2, 2]), 'labelset:2:pred': tensor([0, 0, 0,  ..., 0, 0, 0]), 'labelset:2:ind': tensor([2, 2, 2,  ..., 2, 2, 2]), 'labelset:3:pred': tensor([0, 0, 0,  ..., 0, 0, 0]), 'labelset:3:ind': tensor([2, 2, 2,  ..., 2, 2, 2]), 'labelset:4:pred': tensor([0, 0, 0,  ..., 0, 0, 0]), 'labelset:4:ind': tensor([2, 2, 2,  ..., 2, 2, 2]), 'labelset:5:pred': tensor([1, 1, 1,  ..., 0, 0, 0]), 'labelset:5:ind': tensor([1, 1, 1,  ..., 2, 2, 2]), 'labelset:6:pred': tensor([0, 0, 0,  ..., 0, 0, 0]), 'labelset:6:ind': tensor([2, 2, 2,  ..., 2, 2, 2]), 'labelset:7:pred': tensor([  0,   0,   0,  ..., 200, 200, 200]), 'labelset:7:ind': tensor([2, 2, 2,  ..., 1, 1, 1]), 'labelset:8:pred': tensor([0, 0, 0,  ..., 0, 0, 0]), 'labelset:8:ind': tensor([2, 2, 2,  ..., 2, 2, 2]), 'labelset:9:pred': tensor([0, 0, 0,  ..., 0, 0, 0]), 'labelset:9:ind': tensor([2, 2, 2,  ..., 2, 2, 2]), 'labelset:10:pred': tensor([0, 0, 0,  ..., 0, 0, 0]), 'labelset:10:ind': tensor([2, 2, 2,  ..., 2, 2, 2]), 'labelset:11:pred': tensor([  0,   1,   1,  ..., 200,   0, 200]), 'labelset:11:ind': tensor([2, 1, 1,  ..., 1, 2, 1]), 'labelset:12:pred': tensor([0, 0, 0,  ..., 0, 0, 0]), 'labelset:12:ind': tensor([2, 2, 2,  ..., 2, 2, 2]), 'labelset:13:pred': tensor([0, 0, 0,  ..., 0, 0, 0]), 'labelset:13:ind': tensor([2, 2, 2,  ..., 2, 2, 2]), 'labelset:14:pred': tensor([0, 0, 0,  ..., 0, 0, 0]), 'labelset:14:ind': tensor([2, 2, 2,  ..., 2, 2, 2]), 'labelset:15:pred': tensor([  0,   0,   0,  ...,   0,   0, 200]), 'labelset:15:ind': tensor([2, 2, 2,  ..., 2, 2, 1]), 'labelset:16:pred': tensor([  0,   0,   0,  ..., 200, 200,   0]), 'labelset:16:ind': tensor([2, 2, 2,  ..., 1, 1, 2]), 'labelset:17:pred': tensor([  0,   0,   0,  ...,   0, 200,   0]), 'labelset:17:ind': tensor([2, 2, 2,  ..., 2, 1, 2]), 'labelset:18:pred': tensor([0, 0, 0,  ..., 0, 0, 0]), 'labelset:18:ind': tensor([2, 2, 2,  ..., 2, 2, 2]), 'labelset:19:pred': tensor([0, 0, 0,  ..., 0, 0, 0]), 'labelset:19:ind': tensor([2, 2, 2,  ..., 2, 2, 2]), 'labelset:20:pred': tensor([0, 0, 0,  ..., 0, 0, 0]), 'labelset:20:ind': tensor([2, 2, 2,  ..., 2, 2, 2]), 'labelset:21:pred': tensor([0, 1, 0,  ..., 0, 0, 0]), 'labelset:21:ind': tensor([2, 1, 2,  ..., 2, 2, 2]), 'labelset:22:pred': tensor([0, 0, 1,  ..., 0, 0, 0]), 'labelset:22:ind': tensor([2, 2, 1,  ..., 2, 2, 2]), 'labelset:23:pred': tensor([0, 0, 0,  ..., 0, 0, 0]), 'labelset:23:ind': tensor([2, 2, 2,  ..., 2, 2, 2]), 'labelset:24:pred': tensor([  0,   1,   1,  ...,   0,   0, 200]), 'labelset:24:ind': tensor([2, 1, 1,  ..., 2, 2, 1]), 'labelset:25:pred': tensor([0, 0, 0,  ..., 0, 0, 0]), 'labelset:25:ind': tensor([2, 2, 2,  ..., 2, 2, 2]), 'labelset:26:pred': tensor([  0,   1,   1,  ...,   0,   0, 200]), 'labelset:26:ind': tensor([2, 1, 1,  ..., 2, 2, 1]), 'labelset:27:pred': tensor([0, 0, 0,  ..., 0, 0, 0]), 'labelset:27:ind': tensor([2, 2, 2,  ..., 2, 2, 2]), 'labelset:28:pred': tensor([0, 0, 0,  ..., 0, 0, 0]), 'labelset:28:ind': tensor([2, 2, 2,  ..., 2, 2, 2]), 'labelset:29:pred': tensor([0, 0, 0,  ..., 0, 0, 0]), 'labelset:29:ind': tensor([2, 2, 2,  ..., 2, 2, 2]), 'labelset:30:pred': tensor([  0,   1,   0,  ...,   0,   0, 200]), 'labelset:30:ind': tensor([2, 1, 2,  ..., 2, 2, 1]), 'labelset:31:pred': tensor([  0,   0,   0,  ...,   0, 200, 200]), 'labelset:31:ind': tensor([2, 2, 2,  ..., 2, 1, 1]), 'labelset:32:pred': tensor([  0,   0,   0,  ...,   0, 200,   0]), 'labelset:32:ind': tensor([2, 2, 2,  ..., 2, 1, 2]), 'labelset:33:pred': tensor([0, 0, 0,  ..., 0, 0, 0]), 'labelset:33:ind': tensor([2, 2, 2,  ..., 2, 2, 2]), 'labelset:34:pred': tensor([0, 0, 0,  ..., 0, 0, 0]), 'labelset:34:ind': tensor([2, 2, 2,  ..., 2, 2, 2]), 'labelset:35:pred': tensor([0, 0, 0,  ..., 0, 0, 0]), 'labelset:35:ind': tensor([2, 2, 2,  ..., 2, 2, 2]), 'labelset:36:pred': tensor([0, 1, 1,  ..., 0, 0, 0]), 'labelset:36:ind': tensor([2, 1, 1,  ..., 2, 2, 2]), 'labelset:37:pred': tensor([0, 0, 1,  ..., 0, 0, 0]), 'labelset:37:ind': tensor([2, 2, 1,  ..., 2, 2, 2]), 'labelset:38:pred': tensor([0, 0, 0,  ..., 0, 0, 0]), 'labelset:38:ind': tensor([2, 2, 2,  ..., 2, 2, 2]), 'labelset:39:pred': tensor([  0,   0,   1,  ...,   0,   0, 200]), 'labelset:39:ind': tensor([2, 2, 1,  ..., 2, 2, 1]), 'labelset:40:pred': tensor([0, 0, 0,  ..., 0, 0, 0]), 'labelset:40:ind': tensor([2, 2, 2,  ..., 2, 2, 2]), 'labelset:41:pred': tensor([0, 0, 0,  ..., 0, 0, 0]), 'labelset:41:ind': tensor([2, 2, 2,  ..., 2, 2, 2]), 'labelset:42:pred': tensor([0, 0, 0,  ..., 0, 0, 0]), 'labelset:42:ind': tensor([2, 2, 2,  ..., 2, 2, 2]), 'labelset:43:pred': tensor([0, 0, 0,  ..., 0, 0, 0]), 'labelset:43:ind': tensor([2, 2, 2,  ..., 2, 2, 2]), 'labelset:44:pred': tensor([0, 0, 0,  ..., 0, 0, 0]), 'labelset:44:ind': tensor([2, 2, 2,  ..., 2, 2, 2]), 'labelset:45:pred': tensor([  0,   0,   0,  ...,   0,   0, 200]), 'labelset:45:ind': tensor([2, 2, 2,  ..., 2, 2, 1]), 'labelset:46:pred': tensor([  0,   0,   0,  ..., 200, 200, 200]), 'labelset:46:ind': tensor([2, 2, 2,  ..., 1, 1, 1]), 'labelset:47:pred': tensor([0, 0, 0,  ..., 0, 0, 0]), 'labelset:47:ind': tensor([2, 2, 2,  ..., 2, 2, 2]), 'labelset:48:pred': tensor([0, 0, 0,  ..., 0, 0, 0]), 'labelset:48:ind': tensor([2, 2, 2,  ..., 2, 2, 2]), 'labelset:49:pred': tensor([0, 0, 0,  ..., 0, 0, 0]), 'labelset:49:ind': tensor([2, 2, 2,  ..., 2, 2, 2]), 'labelset:50:pred': tensor([0, 0, 0,  ..., 0, 0, 0]), 'labelset:50:ind': tensor([2, 2, 2,  ..., 2, 2, 2]), 'labelset:51:pred': tensor([0, 0, 0,  ..., 0, 0, 0]), 'labelset:51:ind': tensor([2, 2, 2,  ..., 2, 2, 2]), 'labelset:52:pred': tensor([0, 0, 0,  ..., 0, 0, 0]), 'labelset:52:ind': tensor([2, 2, 2,  ..., 2, 2, 2]), 'labelset:53:pred': tensor([0, 0, 0,  ..., 0, 0, 0]), 'labelset:53:ind': tensor([2, 2, 2,  ..., 2, 2, 2]), 'labelset:54:pred': tensor([  0,   0,   0,  ...,   0,   0, 200]), 'labelset:54:ind': tensor([2, 2, 2,  ..., 2, 2, 1]), 'labelset:55:pred': tensor([  0,   1,   0,  ..., 200, 200,   0]), 'labelset:55:ind': tensor([2, 1, 2,  ..., 1, 1, 2]), 'labelset:56:pred': tensor([0, 0, 0,  ..., 0, 0, 0]), 'labelset:56:ind': tensor([2, 2, 2,  ..., 2, 2, 2]), 'labelset:57:pred': tensor([0, 0, 0,  ..., 0, 0, 0]), 'labelset:57:ind': tensor([2, 2, 2,  ..., 2, 2, 2]), 'labelset:58:pred': tensor([  0,   0,   0,  ...,   0,   0, 200]), 'labelset:58:ind': tensor([2, 2, 2,  ..., 2, 2, 1]), 'labelset:59:pred': tensor([0, 0, 0,  ..., 0, 0, 0]), 'labelset:59:ind': tensor([2, 2, 2,  ..., 2, 2, 2]), 'labelset:60:pred': tensor([  0,   0,   1,  ...,   0,   0, 200]), 'labelset:60:ind': tensor([2, 2, 1,  ..., 2, 2, 1]), 'labelset:61:pred': tensor([0, 0, 0,  ..., 0, 0, 0]), 'labelset:61:ind': tensor([2, 2, 2,  ..., 2, 2, 2]), 'labelset:62:pred': tensor([0, 0, 0,  ..., 0, 0, 0]), 'labelset:62:ind': tensor([2, 2, 2,  ..., 2, 2, 2]), 'labelset:63:pred': tensor([0, 0, 0,  ..., 0, 0, 0]), 'labelset:63:ind': tensor([2, 2, 2,  ..., 2, 2, 2]), 'labelset:64:pred': tensor([  0,   0,   0,  ...,   0,   0, 200]), 'labelset:64:ind': tensor([2, 2, 2,  ..., 2, 2, 1]), 'labelset:65:pred': tensor([  0,   0,   0,  ...,   0, 200, 200]), 'labelset:65:ind': tensor([2, 2, 2,  ..., 2, 1, 1]), 'labelset:66:pred': tensor([  0,   0,   0,  ...,   0, 200,   0]), 'labelset:66:ind': tensor([2, 2, 2,  ..., 2, 1, 2]), 'labelset:67:pred': tensor([0, 0, 0,  ..., 0, 0, 0]), 'labelset:67:ind': tensor([2, 2, 2,  ..., 2, 2, 2]), 'labelset:68:pred': tensor([0, 0, 0,  ..., 0, 0, 0]), 'labelset:68:ind': tensor([2, 2, 2,  ..., 2, 2, 2]), 'labelset:69:pred': tensor([0, 0, 0,  ..., 0, 0, 0]), 'labelset:69:ind': tensor([2, 2, 2,  ..., 2, 2, 2]), 'labelset:70:pred': tensor([0, 0, 0,  ..., 0, 0, 0]), 'labelset:70:ind': tensor([2, 2, 2,  ..., 2, 2, 2]), 'labelset:71:pred': tensor([0, 0, 1,  ..., 0, 0, 0]), 'labelset:71:ind': tensor([2, 2, 1,  ..., 2, 2, 2]), 'labelset:72:pred': tensor([0, 0, 0,  ..., 0, 0, 0]), 'labelset:72:ind': tensor([2, 2, 2,  ..., 2, 2, 2]), 'labelset:73:pred': tensor([  0,   1,   1,  ...,   0,   0, 200]), 'labelset:73:ind': tensor([2, 1, 1,  ..., 2, 2, 1]), 'labelset:74:pred': tensor([0, 0, 0,  ..., 0, 0, 0]), 'labelset:74:ind': tensor([2, 2, 2,  ..., 2, 2, 2]), 'labelset:75:pred': tensor([0, 0, 0,  ..., 0, 0, 0]), 'labelset:75:ind': tensor([2, 2, 2,  ..., 2, 2, 2]), 'labelset:76:pred': tensor([  0,   0,   0,  ..., 200,   0,   0]), 'labelset:76:ind': tensor([2, 2, 2,  ..., 1, 2, 2]), 'labelset:77:pred': tensor([0, 0, 1,  ..., 0, 0, 0]), 'labelset:77:ind': tensor([2, 2, 1,  ..., 2, 2, 2]), 'labelset:78:pred': tensor([  0,   0,   0,  ...,   0,   0, 200]), 'labelset:78:ind': tensor([2, 2, 2,  ..., 2, 2, 1]), 'labelset:79:pred': tensor([0, 0, 0,  ..., 0, 0, 0]), 'labelset:79:ind': tensor([2, 2, 2,  ..., 2, 2, 2]), 'labelset:80:pred': tensor([0, 0, 0,  ..., 0, 0, 0]), 'labelset:80:ind': tensor([2, 2, 2,  ..., 2, 2, 2]), 'labelset:81:pred': tensor([  0,   0,   1,  ..., 200,   0, 200]), 'labelset:81:ind': tensor([2, 2, 1,  ..., 1, 2, 1]), 'labelset:82:pred': tensor([0, 0, 0,  ..., 0, 0, 0]), 'labelset:82:ind': tensor([2, 2, 2,  ..., 2, 2, 2]), 'labelset:83:pred': tensor([0, 0, 0,  ..., 0, 0, 0]), 'labelset:83:ind': tensor([2, 2, 2,  ..., 2, 2, 2]), 'labelset:84:pred': tensor([0, 0, 0,  ..., 0, 0, 0]), 'labelset:84:ind': tensor([2, 2, 2,  ..., 2, 2, 2]), 'labelset:85:pred': tensor([0, 0, 0,  ..., 0, 0, 0]), 'labelset:85:ind': tensor([2, 2, 2,  ..., 2, 2, 2]), 'labelset:86:pred': tensor([  0,   0,   0,  ..., 200,   0, 200]), 'labelset:86:ind': tensor([2, 2, 2,  ..., 1, 2, 1]), 'labelset:87:pred': tensor([0, 0, 0,  ..., 0, 0, 0]), 'labelset:87:ind': tensor([2, 2, 2,  ..., 2, 2, 2]), 'labelset:88:pred': tensor([0, 0, 0,  ..., 0, 0, 0]), 'labelset:88:ind': tensor([2, 2, 2,  ..., 2, 2, 2]), 'labelset:89:pred': tensor([0, 0, 0,  ..., 0, 0, 0]), 'labelset:89:ind': tensor([2, 2, 2,  ..., 2, 2, 2]), 'labelset:90:pred': tensor([0, 0, 0,  ..., 0, 0, 0]), 'labelset:90:ind': tensor([2, 2, 2,  ..., 2, 2, 2]), 'labelset:91:pred': tensor([0, 0, 0,  ..., 0, 0, 0]), 'labelset:91:ind': tensor([2, 2, 2,  ..., 2, 2, 2]), 'labelset:92:pred': tensor([0, 0, 1,  ..., 0, 0, 0]), 'labelset:92:ind': tensor([2, 2, 1,  ..., 2, 2, 2]), 'labelset:93:pred': tensor([0, 0, 0,  ..., 0, 0, 0]), 'labelset:93:ind': tensor([2, 2, 2,  ..., 2, 2, 2]), 'labelset:94:pred': tensor([  0,   0,   1,  ...,   0,   0, 200]), 'labelset:94:ind': tensor([2, 2, 1,  ..., 2, 2, 1]), 'labelset:95:pred': tensor([0, 0, 0,  ..., 0, 0, 0]), 'labelset:95:ind': tensor([2, 2, 2,  ..., 2, 2, 2]), 'labelset:96:pred': tensor([0, 1, 0,  ..., 0, 0, 0]), 'labelset:96:ind': tensor([2, 1, 2,  ..., 2, 2, 2]), 'labelset:97:pred': tensor([0, 0, 0,  ..., 0, 0, 0]), 'labelset:97:ind': tensor([2, 2, 2,  ..., 2, 2, 2]), 'labelset:98:pred': tensor([  1,   0,   0,  ..., 200, 200,   0]), 'labelset:98:ind': tensor([1, 2, 2,  ..., 1, 1, 2]), 'labelset:99:pred': tensor([0, 0, 0,  ..., 0, 0, 0]), 'labelset:99:ind': tensor([2, 2, 2,  ..., 2, 2, 2]), 'labelset:100:pred': tensor([  0,   0,   0,  ...,   0, 200, 200]), 'labelset:100:ind': tensor([2, 2, 2,  ..., 2, 1, 1]), 'labelset:101:pred': tensor([0, 0, 0,  ..., 0, 0, 0]), 'labelset:101:ind': tensor([2, 2, 2,  ..., 2, 2, 2]), 'labelset:102:pred': tensor([0, 0, 0,  ..., 0, 0, 0]), 'labelset:102:ind': tensor([2, 2, 2,  ..., 2, 2, 2]), 'labelset:103:pred': tensor([0, 1, 0,  ..., 0, 0, 0]), 'labelset:103:ind': tensor([2, 1, 2,  ..., 2, 2, 2]), 'labelset:104:pred': tensor([0, 0, 1,  ..., 0, 0, 0]), 'labelset:104:ind': tensor([2, 2, 1,  ..., 2, 2, 2]), 'labelset:105:pred': tensor([  0,   0,   0,  ..., 200,   0,   0]), 'labelset:105:ind': tensor([2, 2, 2,  ..., 1, 2, 2]), 'labelset:106:pred': tensor([0, 0, 0,  ..., 0, 0, 0]), 'labelset:106:ind': tensor([2, 2, 2,  ..., 2, 2, 2]), 'labelset:107:pred': tensor([0, 1, 0,  ..., 0, 0, 0]), 'labelset:107:ind': tensor([2, 1, 2,  ..., 2, 2, 2]), 'labelset:108:pred': tensor([0, 0, 0,  ..., 0, 0, 0]), 'labelset:108:ind': tensor([2, 2, 2,  ..., 2, 2, 2]), 'labelset:109:pred': tensor([0, 0, 0,  ..., 0, 0, 0]), 'labelset:109:ind': tensor([2, 2, 2,  ..., 2, 2, 2]), 'labelset:110:pred': tensor([0, 0, 0,  ..., 0, 0, 0]), 'labelset:110:ind': tensor([2, 2, 2,  ..., 2, 2, 2]), 'labelset:111:pred': tensor([  0,   0,   0,  ...,   0,   0, 200]), 'labelset:111:ind': tensor([2, 2, 2,  ..., 2, 2, 1]), 'labelset:112:pred': tensor([  0,   0,   0,  ..., 200, 200, 200]), 'labelset:112:ind': tensor([2, 2, 2,  ..., 1, 1, 1]), 'labelset:113:pred': tensor([0, 0, 0,  ..., 0, 0, 0]), 'labelset:113:ind': tensor([2, 2, 2,  ..., 2, 2, 2]), 'labelset:114:pred': tensor([0, 0, 0,  ..., 0, 0, 0]), 'labelset:114:ind': tensor([2, 2, 2,  ..., 2, 2, 2]), 'labelset:115:pred': tensor([0, 0, 0,  ..., 0, 0, 0]), 'labelset:115:ind': tensor([2, 2, 2,  ..., 2, 2, 2]), 'labelset:116:pred': tensor([0, 0, 0,  ..., 0, 0, 0]), 'labelset:116:ind': tensor([2, 2, 2,  ..., 2, 2, 2]), 'labelset:117:pred': tensor([0, 0, 0,  ..., 0, 0, 0]), 'labelset:117:ind': tensor([2, 2, 2,  ..., 2, 2, 2]), 'labelset:118:pred': tensor([0, 0, 0,  ..., 0, 0, 0]), 'labelset:118:ind': tensor([2, 2, 2,  ..., 2, 2, 2]), 'labelset:119:pred': tensor([0, 0, 0,  ..., 0, 0, 0]), 'labelset:119:ind': tensor([2, 2, 2,  ..., 2, 2, 2]), 'labelset:120:pred': tensor([  0,   0,   0,  ...,   0,   0, 200]), 'labelset:120:ind': tensor([2, 2, 2,  ..., 2, 2, 1]), 'labelset:121:pred': tensor([0, 0, 0,  ..., 0, 0, 0]), 'labelset:121:ind': tensor([2, 2, 2,  ..., 2, 2, 2]), 'labelset:122:pred': tensor([0, 0, 1,  ..., 0, 0, 0]), 'labelset:122:ind': tensor([2, 2, 1,  ..., 2, 2, 2]), 'labelset:123:pred': tensor([0, 0, 0,  ..., 0, 0, 0]), 'labelset:123:ind': tensor([2, 2, 2,  ..., 2, 2, 2]), 'labelset:124:pred': tensor([0, 0, 0,  ..., 0, 0, 0]), 'labelset:124:ind': tensor([2, 2, 2,  ..., 2, 2, 2]), 'labelset:125:pred': tensor([0, 0, 0,  ..., 0, 0, 0]), 'labelset:125:ind': tensor([2, 2, 2,  ..., 2, 2, 2]), 'labelset:126:pred': tensor([0, 0, 0,  ..., 0, 0, 0]), 'labelset:126:ind': tensor([2, 2, 2,  ..., 2, 2, 2]), 'labelset:127:pred': tensor([  0,   0,   0,  ..., 200, 200, 200]), 'labelset:127:ind': tensor([2, 2, 2,  ..., 1, 1, 1]), 'labelset:128:pred': tensor([0, 0, 0,  ..., 0, 0, 0]), 'labelset:128:ind': tensor([2, 2, 2,  ..., 2, 2, 2]), 'labelset:129:pred': tensor([0, 0, 0,  ..., 0, 0, 0]), 'labelset:129:ind': tensor([2, 2, 2,  ..., 2, 2, 2]), 'labelset:130:pred': tensor([0, 0, 0,  ..., 0, 0, 0]), 'labelset:130:ind': tensor([2, 2, 2,  ..., 2, 2, 2]), 'labelset:131:pred': tensor([0, 0, 0,  ..., 0, 0, 0]), 'labelset:131:ind': tensor([2, 2, 2,  ..., 2, 2, 2]), 'labelset:132:pred': tensor([0, 0, 0,  ..., 0, 0, 0]), 'labelset:132:ind': tensor([2, 2, 2,  ..., 2, 2, 2]), 'labelset:133:pred': tensor([0, 0, 1,  ..., 0, 0, 0]), 'labelset:133:ind': tensor([2, 2, 1,  ..., 2, 2, 2]), 'labelset:134:pred': tensor([0, 0, 0,  ..., 0, 0, 0]), 'labelset:134:ind': tensor([2, 2, 2,  ..., 2, 2, 2]), 'labelset:135:pred': tensor([1, 1, 1,  ..., 0, 0, 0]), 'labelset:135:ind': tensor([1, 1, 1,  ..., 2, 2, 2]), 'labelset:136:pred': tensor([0, 0, 0,  ..., 0, 0, 0]), 'labelset:136:ind': tensor([2, 2, 2,  ..., 2, 2, 2]), 'labelset:137:pred': tensor([  1,   0,   0,  ...,   0,   0, 200]), 'labelset:137:ind': tensor([1, 2, 2,  ..., 2, 2, 1]), 'labelset:138:pred': tensor([0, 0, 0,  ..., 0, 0, 0]), 'labelset:138:ind': tensor([2, 2, 2,  ..., 2, 2, 2]), 'labelset:139:pred': tensor([0, 0, 0,  ..., 0, 0, 0]), 'labelset:139:ind': tensor([2, 2, 2,  ..., 2, 2, 2]), 'labelset:140:pred': tensor([0, 0, 0,  ..., 0, 0, 0]), 'labelset:140:ind': tensor([2, 2, 2,  ..., 2, 2, 2]), 'labelset:141:pred': tensor([0, 0, 0,  ..., 0, 0, 0]), 'labelset:141:ind': tensor([2, 2, 2,  ..., 2, 2, 2]), 'labelset:142:pred': tensor([0, 0, 0,  ..., 0, 0, 0]), 'labelset:142:ind': tensor([2, 2, 2,  ..., 2, 2, 2]), 'labelset:143:pred': tensor([0, 0, 0,  ..., 0, 0, 0]), 'labelset:143:ind': tensor([2, 2, 2,  ..., 2, 2, 2]), 'labelset:144:pred': tensor([0, 0, 0,  ..., 0, 0, 0]), 'labelset:144:ind': tensor([2, 2, 2,  ..., 2, 2, 2]), 'labelset:145:pred': tensor([0, 0, 0,  ..., 0, 0, 0]), 'labelset:145:ind': tensor([2, 2, 2,  ..., 2, 2, 2]), 'labelset:146:pred': tensor([  0,   1,   1,  ..., 200, 200, 200]), 'labelset:146:ind': tensor([2, 1, 1,  ..., 1, 1, 1]), 'labelset:147:pred': tensor([0, 0, 0,  ..., 0, 0, 0]), 'labelset:147:ind': tensor([2, 2, 2,  ..., 2, 2, 2]), 'labelset:148:pred': tensor([0, 0, 0,  ..., 0, 0, 0]), 'labelset:148:ind': tensor([2, 2, 2,  ..., 2, 2, 2]), 'labelset:149:pred': tensor([0, 0, 0,  ..., 0, 0, 0]), 'labelset:149:ind': tensor([2, 2, 2,  ..., 2, 2, 2]), 'labelset:150:pred': tensor([0, 1, 1,  ..., 0, 0, 0]), 'labelset:150:ind': tensor([2, 1, 1,  ..., 2, 2, 2]), 'labelset:151:pred': tensor([1, 0, 0,  ..., 0, 0, 0]), 'labelset:151:ind': tensor([1, 2, 2,  ..., 2, 2, 2]), 'labelset:152:pred': tensor([  0,   0,   0,  ..., 200, 200, 200]), 'labelset:152:ind': tensor([2, 2, 2,  ..., 1, 1, 1]), 'labelset:153:pred': tensor([0, 0, 0,  ..., 0, 0, 0]), 'labelset:153:ind': tensor([2, 2, 2,  ..., 2, 2, 2]), 'labelset:154:pred': tensor([0, 0, 0,  ..., 0, 0, 0]), 'labelset:154:ind': tensor([2, 2, 2,  ..., 2, 2, 2]), 'labelset:155:pred': tensor([0, 0, 0,  ..., 0, 0, 0]), 'labelset:155:ind': tensor([2, 2, 2,  ..., 2, 2, 2]), 'labelset:156:pred': tensor([0, 0, 0,  ..., 0, 0, 0]), 'labelset:156:ind': tensor([2, 2, 2,  ..., 2, 2, 2]), 'labelset:157:pred': tensor([0, 0, 0,  ..., 0, 0, 0]), 'labelset:157:ind': tensor([2, 2, 2,  ..., 2, 2, 2]), 'labelset:158:pred': tensor([  0,   0,   0,  ...,   0,   0, 200]), 'labelset:158:ind': tensor([2, 2, 2,  ..., 2, 2, 1]), 'labelset:159:pred': tensor([0, 0, 0,  ..., 0, 0, 0]), 'labelset:159:ind': tensor([2, 2, 2,  ..., 2, 2, 2]), 'labelset:160:pred': tensor([0, 0, 0,  ..., 0, 0, 0]), 'labelset:160:ind': tensor([2, 2, 2,  ..., 2, 2, 2]), 'labelset:161:pred': tensor([0, 0, 0,  ..., 0, 0, 0]), 'labelset:161:ind': tensor([2, 2, 2,  ..., 2, 2, 2]), 'labelset:162:pred': tensor([0, 0, 0,  ..., 0, 0, 0]), 'labelset:162:ind': tensor([2, 2, 2,  ..., 2, 2, 2]), 'labelset:163:pred': tensor([0, 0, 0,  ..., 0, 0, 0]), 'labelset:163:ind': tensor([2, 2, 2,  ..., 2, 2, 2]), 'labelset:164:pred': tensor([  0,   0,   0,  ..., 200, 200, 200]), 'labelset:164:ind': tensor([2, 2, 2,  ..., 1, 1, 1]), 'labelset:165:pred': tensor([  1,   1,   1,  ...,   0, 200, 200]), 'labelset:165:ind': tensor([1, 1, 1,  ..., 2, 1, 1]), 'labelset:166:pred': tensor([0, 0, 0,  ..., 0, 0, 0]), 'labelset:166:ind': tensor([2, 2, 2,  ..., 2, 2, 2]), 'labelset:167:pred': tensor([0, 0, 1,  ..., 0, 0, 0]), 'labelset:167:ind': tensor([2, 2, 1,  ..., 2, 2, 2]), 'labelset:168:pred': tensor([0, 0, 0,  ..., 0, 0, 0]), 'labelset:168:ind': tensor([2, 2, 2,  ..., 2, 2, 2]), 'labelset:169:pred': tensor([  0,   0,   0,  ..., 200,   0, 200]), 'labelset:169:ind': tensor([2, 2, 2,  ..., 1, 2, 1]), 'labelset:170:pred': tensor([0, 0, 0,  ..., 0, 0, 0]), 'labelset:170:ind': tensor([2, 2, 2,  ..., 2, 2, 2]), 'labelset:171:pred': tensor([0, 0, 0,  ..., 0, 0, 0]), 'labelset:171:ind': tensor([2, 2, 2,  ..., 2, 2, 2]), 'labelset:172:pred': tensor([0, 0, 0,  ..., 0, 0, 0]), 'labelset:172:ind': tensor([2, 2, 2,  ..., 2, 2, 2]), 'labelset:173:pred': tensor([0, 0, 0,  ..., 0, 0, 0]), 'labelset:173:ind': tensor([2, 2, 2,  ..., 2, 2, 2]), 'labelset:174:pred': tensor([  0,   0,   0,  ..., 200,   0, 200]), 'labelset:174:ind': tensor([2, 2, 2,  ..., 1, 2, 1]), 'labelset:175:pred': tensor([0, 0, 0,  ..., 0, 0, 0]), 'labelset:175:ind': tensor([2, 2, 2,  ..., 2, 2, 2]), 'labelset:176:pred': tensor([0, 0, 0,  ..., 0, 0, 0]), 'labelset:176:ind': tensor([2, 2, 2,  ..., 2, 2, 2]), 'labelset:177:pred': tensor([0, 0, 0,  ..., 0, 0, 0]), 'labelset:177:ind': tensor([2, 2, 2,  ..., 2, 2, 2]), 'labelset:178:pred': tensor([0, 0, 0,  ..., 0, 0, 0]), 'labelset:178:ind': tensor([2, 2, 2,  ..., 2, 2, 2]), 'labelset:179:pred': tensor([0, 0, 0,  ..., 0, 0, 0]), 'labelset:179:ind': tensor([2, 2, 2,  ..., 2, 2, 2]), 'labelset:180:pred': tensor([0, 0, 0,  ..., 0, 0, 0]), 'labelset:180:ind': tensor([2, 2, 2,  ..., 2, 2, 2]), 'labelset:181:pred': tensor([0, 0, 0,  ..., 0, 0, 0]), 'labelset:181:ind': tensor([2, 2, 2,  ..., 2, 2, 2]), 'labelset:182:pred': tensor([  0,   0,   0,  ...,   0,   0, 200]), 'labelset:182:ind': tensor([2, 2, 2,  ..., 2, 2, 1]), 'labelset:183:pred': tensor([0, 0, 0,  ..., 0, 0, 0]), 'labelset:183:ind': tensor([2, 2, 2,  ..., 2, 2, 2]), 'labelset:184:pred': tensor([0, 1, 1,  ..., 0, 0, 0]), 'labelset:184:ind': tensor([2, 1, 1,  ..., 2, 2, 2]), 'labelset:185:pred': tensor([0, 0, 0,  ..., 0, 0, 0]), 'labelset:185:ind': tensor([2, 2, 2,  ..., 2, 2, 2]), 'labelset:186:pred': tensor([0, 0, 0,  ..., 0, 0, 0]), 'labelset:186:ind': tensor([2, 2, 2,  ..., 2, 2, 2]), 'labelset:187:pred': tensor([0, 0, 0,  ..., 0, 0, 0]), 'labelset:187:ind': tensor([2, 2, 2,  ..., 2, 2, 2]), 'labelset:188:pred': tensor([0, 0, 0,  ..., 0, 0, 0]), 'labelset:188:ind': tensor([2, 2, 2,  ..., 2, 2, 2]), 'labelset:189:pred': tensor([  0,   0,   0,  ...,   0, 200, 200]), 'labelset:189:ind': tensor([2, 2, 2,  ..., 2, 1, 1]), 'labelset:190:pred': tensor([  0,   0,   0,  ...,   0, 200,   0]), 'labelset:190:ind': tensor([2, 2, 2,  ..., 2, 1, 2]), 'labelset:191:pred': tensor([0, 0, 0,  ..., 0, 0, 0]), 'labelset:191:ind': tensor([2, 2, 2,  ..., 2, 2, 2]), 'labelset:192:pred': tensor([0, 0, 0,  ..., 0, 0, 0]), 'labelset:192:ind': tensor([2, 2, 2,  ..., 2, 2, 2]), 'labelset:193:pred': tensor([  0,   0,   0,  ..., 200,   0,   0]), 'labelset:193:ind': tensor([2, 2, 2,  ..., 1, 2, 2]), 'labelset:194:pred': tensor([  0,   0,   0,  ..., 200,   0, 200]), 'labelset:194:ind': tensor([2, 2, 2,  ..., 1, 2, 1]), 'labelset:195:pred': tensor([  0,   0,   0,  ..., 200,   0, 200]), 'labelset:195:ind': tensor([2, 2, 2,  ..., 1, 2, 1]), 'labelset:196:pred': tensor([0, 0, 0,  ..., 0, 0, 0]), 'labelset:196:ind': tensor([2, 2, 2,  ..., 2, 2, 2]), 'labelset:197:pred': tensor([1, 0, 1,  ..., 0, 0, 0]), 'labelset:197:ind': tensor([1, 2, 1,  ..., 2, 2, 2]), 'labelset:198:pred': tensor([0, 0, 0,  ..., 0, 0, 0]), 'labelset:198:ind': tensor([2, 2, 2,  ..., 2, 2, 2]), 'labelset:199:pred': tensor([0, 0, 0,  ..., 0, 0, 0]), 'labelset:199:ind': tensor([2, 2, 2,  ..., 2, 2, 2]), 'labelset:200:pred': tensor([0, 0, 0,  ..., 0, 0, 0]), 'labelset:200:ind': tensor([2, 2, 2,  ..., 2, 2, 2]), 'labelset:201:pred': tensor([0, 0, 0,  ..., 0, 0, 0]), 'labelset:201:ind': tensor([2, 2, 2,  ..., 2, 2, 2]), 'labelset:202:pred': tensor([0, 0, 0,  ..., 0, 0, 0]), 'labelset:202:ind': tensor([2, 2, 2,  ..., 2, 2, 2]), 'labelset:203:pred': tensor([  0,   0,   0,  ...,   0,   0, 200]), 'labelset:203:ind': tensor([2, 2, 2,  ..., 2, 2, 1]), 'labelset:204:pred': tensor([  0,   0,   0,  ..., 200, 200, 200]), 'labelset:204:ind': tensor([2, 2, 2,  ..., 1, 1, 1]), 'labelset:205:pred': tensor([0, 0, 0,  ..., 0, 0, 0]), 'labelset:205:ind': tensor([2, 2, 2,  ..., 2, 2, 2]), 'labelset:206:pred': tensor([0, 0, 0,  ..., 0, 0, 0]), 'labelset:206:ind': tensor([2, 2, 2,  ..., 2, 2, 2]), 'labelset:207:pred': tensor([0, 0, 0,  ..., 0, 0, 0]), 'labelset:207:ind': tensor([2, 2, 2,  ..., 2, 2, 2]), 'labelset:208:pred': tensor([0, 0, 0,  ..., 0, 0, 0]), 'labelset:208:ind': tensor([2, 2, 2,  ..., 2, 2, 2]), 'labelset:209:pred': tensor([0, 0, 0,  ..., 0, 0, 0]), 'labelset:209:ind': tensor([2, 2, 2,  ..., 2, 2, 2]), 'labelset:210:pred': tensor([0, 0, 0,  ..., 0, 0, 0]), 'labelset:210:ind': tensor([2, 2, 2,  ..., 2, 2, 2]), 'labelset:211:pred': tensor([0, 0, 0,  ..., 0, 0, 0]), 'labelset:211:ind': tensor([2, 2, 2,  ..., 2, 2, 2]), 'labelset:212:pred': tensor([  0,   1,   0,  ...,   0,   0, 200]), 'labelset:212:ind': tensor([2, 1, 2,  ..., 2, 2, 1]), 'labelset:213:pred': tensor([  0,   0,   1,  ...,   0, 200, 200]), 'labelset:213:ind': tensor([2, 2, 1,  ..., 2, 1, 1]), 'labelset:214:pred': tensor([0, 0, 0,  ..., 0, 0, 0]), 'labelset:214:ind': tensor([2, 2, 2,  ..., 2, 2, 2]), 'labelset:215:pred': tensor([0, 0, 0,  ..., 0, 0, 0]), 'labelset:215:ind': tensor([2, 2, 2,  ..., 2, 2, 2]), 'labelset:216:pred': tensor([0, 0, 0,  ..., 0, 0, 0]), 'labelset:216:ind': tensor([2, 2, 2,  ..., 2, 2, 2]), 'labelset:217:pred': tensor([0, 1, 0,  ..., 0, 0, 0]), 'labelset:217:ind': tensor([2, 1, 2,  ..., 2, 2, 2]), 'labelset:218:pred': tensor([1, 0, 1,  ..., 0, 0, 0]), 'labelset:218:ind': tensor([1, 2, 1,  ..., 2, 2, 2]), 'labelset:219:pred': tensor([  0,   0,   0,  ...,   0,   0, 200]), 'labelset:219:ind': tensor([2, 2, 2,  ..., 2, 2, 1]), 'labelset:220:pred': tensor([0, 1, 0,  ..., 0, 0, 0]), 'labelset:220:ind': tensor([2, 1, 2,  ..., 2, 2, 2]), 'labelset:221:pred': tensor([0, 0, 0,  ..., 0, 0, 0]), 'labelset:221:ind': tensor([2, 2, 2,  ..., 2, 2, 2]), 'labelset:222:pred': tensor([  0,   0,   0,  ..., 200, 200,   0]), 'labelset:222:ind': tensor([2, 2, 2,  ..., 1, 1, 2]), 'labelset:223:pred': tensor([0, 0, 0,  ..., 0, 0, 0]), 'labelset:223:ind': tensor([2, 2, 2,  ..., 2, 2, 2]), 'labelset:224:pred': tensor([0, 0, 0,  ..., 0, 0, 0]), 'labelset:224:ind': tensor([2, 2, 2,  ..., 2, 2, 2]), 'labelset:225:pred': tensor([1, 0, 0,  ..., 0, 0, 0]), 'labelset:225:ind': tensor([1, 2, 2,  ..., 2, 2, 2]), 'labelset:226:pred': tensor([0, 0, 0,  ..., 0, 0, 0]), 'labelset:226:ind': tensor([2, 2, 2,  ..., 2, 2, 2]), 'labelset:227:pred': tensor([0, 0, 0,  ..., 0, 0, 0]), 'labelset:227:ind': tensor([2, 2, 2,  ..., 2, 2, 2]), 'labelset:228:pred': tensor([0, 1, 0,  ..., 0, 0, 0]), 'labelset:228:ind': tensor([2, 1, 2,  ..., 2, 2, 2]), 'labelset:229:pred': tensor([0, 0, 0,  ..., 0, 0, 0]), 'labelset:229:ind': tensor([2, 2, 2,  ..., 2, 2, 2]), 'labelset:230:pred': tensor([0, 0, 0,  ..., 0, 0, 0]), 'labelset:230:ind': tensor([2, 2, 2,  ..., 2, 2, 2]), 'labelset:231:pred': tensor([0, 0, 0,  ..., 0, 0, 0]), 'labelset:231:ind': tensor([2, 2, 2,  ..., 2, 2, 2]), 'labelset:232:pred': tensor([0, 0, 0,  ..., 0, 0, 0]), 'labelset:232:ind': tensor([2, 2, 2,  ..., 2, 2, 2]), 'labelset:233:pred': tensor([0, 0, 0,  ..., 0, 0, 0]), 'labelset:233:ind': tensor([2, 2, 2,  ..., 2, 2, 2]), 'labelset:234:pred': tensor([0, 0, 0,  ..., 0, 0, 0]), 'labelset:234:ind': tensor([2, 2, 2,  ..., 2, 2, 2]), 'labelset:235:pred': tensor([0, 0, 1,  ..., 0, 0, 0]), 'labelset:235:ind': tensor([2, 2, 1,  ..., 2, 2, 2]), 'labelset:236:pred': tensor([  0,   0,   0,  ..., 200, 200, 200]), 'labelset:236:ind': tensor([2, 2, 2,  ..., 1, 1, 1]), 'labelset:237:pred': tensor([0, 0, 0,  ..., 0, 0, 0]), 'labelset:237:ind': tensor([2, 2, 2,  ..., 2, 2, 2]), 'labelset:238:pred': tensor([0, 0, 0,  ..., 0, 0, 0]), 'labelset:238:ind': tensor([2, 2, 2,  ..., 2, 2, 2]), 'labelset:239:pred': tensor([0, 0, 0,  ..., 0, 0, 0]), 'labelset:239:ind': tensor([2, 2, 2,  ..., 2, 2, 2]), 'labelset:240:pred': tensor([  0,   1,   1,  ...,   0, 200, 200]), 'labelset:240:ind': tensor([2, 1, 1,  ..., 2, 1, 1]), 'labelset:241:pred': tensor([  0,   0,   0,  ..., 200,   0,   0]), 'labelset:241:ind': tensor([2, 2, 2,  ..., 1, 2, 2]), 'labelset:242:pred': tensor([0, 0, 0,  ..., 0, 0, 0]), 'labelset:242:ind': tensor([2, 2, 2,  ..., 2, 2, 2]), 'labelset:243:pred': tensor([0, 0, 0,  ..., 0, 0, 0]), 'labelset:243:ind': tensor([2, 2, 2,  ..., 2, 2, 2]), 'labelset:244:pred': tensor([  0,   0,   1,  ...,   0,   0, 200]), 'labelset:244:ind': tensor([2, 2, 1,  ..., 2, 2, 1]), 'labelset:245:pred': tensor([  0,   0,   0,  ..., 200, 200,   0]), 'labelset:245:ind': tensor([2, 2, 2,  ..., 1, 1, 2]), 'labelset:246:pred': tensor([0, 0, 0,  ..., 0, 0, 0]), 'labelset:246:ind': tensor([2, 2, 2,  ..., 2, 2, 2]), 'labelset:247:pred': tensor([0, 0, 0,  ..., 0, 0, 0]), 'labelset:247:ind': tensor([2, 2, 2,  ..., 2, 2, 2]), 'labelset:248:pred': tensor([  0,   0,   0,  ...,   0,   0, 200]), 'labelset:248:ind': tensor([2, 2, 2,  ..., 2, 2, 1]), 'labelset:249:pred': tensor([0, 0, 0,  ..., 0, 0, 0]), 'labelset:249:ind': tensor([2, 2, 2,  ..., 2, 2, 2]), 'labelset:250:pred': tensor([  0,   1,   1,  ...,   0,   0, 200]), 'labelset:250:ind': tensor([2, 1, 1,  ..., 2, 2, 1]), 'labelset:251:pred': tensor([0, 0, 0,  ..., 0, 0, 0]), 'labelset:251:ind': tensor([2, 2, 2,  ..., 2, 2, 2]), 'labelset:252:pred': tensor([0, 0, 0,  ..., 0, 0, 0]), 'labelset:252:ind': tensor([2, 2, 2,  ..., 2, 2, 2]), 'labelset:253:pred': tensor([0, 0, 0,  ..., 0, 0, 0]), 'labelset:253:ind': tensor([2, 2, 2,  ..., 2, 2, 2]), 'labelset:254:pred': tensor([  0,   0,   0,  ...,   0,   0, 200]), 'labelset:254:ind': tensor([2, 2, 2,  ..., 2, 2, 1]), 'labelset:255:pred': tensor([  0,   0,   0,  ..., 200, 200, 200]), 'labelset:255:ind': tensor([2, 2, 2,  ..., 1, 1, 1]), 'labelset:256:pred': tensor([0, 0, 0,  ..., 0, 0, 0]), 'labelset:256:ind': tensor([2, 2, 2,  ..., 2, 2, 2]), 'labelset:257:pred': tensor([0, 0, 0,  ..., 0, 0, 0]), 'labelset:257:ind': tensor([2, 2, 2,  ..., 2, 2, 2]), 'labelset:258:pred': tensor([0, 0, 0,  ..., 0, 0, 0]), 'labelset:258:ind': tensor([2, 2, 2,  ..., 2, 2, 2]), 'labelset:259:pred': tensor([0, 0, 0,  ..., 0, 0, 0]), 'labelset:259:ind': tensor([2, 2, 2,  ..., 2, 2, 2]), 'labelset:260:pred': tensor([  0,   0,   0,  ...,   0,   0, 200]), 'labelset:260:ind': tensor([2, 2, 2,  ..., 2, 2, 1]), 'labelset:261:pred': tensor([0, 0, 0,  ..., 0, 0, 0]), 'labelset:261:ind': tensor([2, 2, 2,  ..., 2, 2, 2]), 'labelset:262:pred': tensor([0, 0, 0,  ..., 0, 0, 0]), 'labelset:262:ind': tensor([2, 2, 2,  ..., 2, 2, 2]), 'labelset:263:pred': tensor([1, 0, 1,  ..., 0, 0, 0]), 'labelset:263:ind': tensor([1, 2, 1,  ..., 2, 2, 2]), 'labelset:264:pred': tensor([0, 0, 0,  ..., 0, 0, 0]), 'labelset:264:ind': tensor([2, 2, 2,  ..., 2, 2, 2]), 'labelset:265:pred': tensor([0, 0, 0,  ..., 0, 0, 0]), 'labelset:265:ind': tensor([2, 2, 2,  ..., 2, 2, 2]), 'labelset:266:pred': tensor([0, 0, 0,  ..., 0, 0, 0]), 'labelset:266:ind': tensor([2, 2, 2,  ..., 2, 2, 2]), 'labelset:267:pred': tensor([0, 0, 0,  ..., 0, 0, 0]), 'labelset:267:ind': tensor([2, 2, 2,  ..., 2, 2, 2]), 'labelset:268:pred': tensor([0, 0, 0,  ..., 0, 0, 0]), 'labelset:268:ind': tensor([2, 2, 2,  ..., 2, 2, 2]), 'labelset:269:pred': tensor([0, 0, 0,  ..., 0, 0, 0]), 'labelset:269:ind': tensor([2, 2, 2,  ..., 2, 2, 2]), 'labelset:270:pred': tensor([0, 0, 0,  ..., 0, 0, 0]), 'labelset:270:ind': tensor([2, 2, 2,  ..., 2, 2, 2]), 'labelset:271:pred': tensor([0, 0, 0,  ..., 0, 0, 0]), 'labelset:271:ind': tensor([2, 2, 2,  ..., 2, 2, 2]), 'labelset:272:pred': tensor([0, 0, 0,  ..., 0, 0, 0]), 'labelset:272:ind': tensor([2, 2, 2,  ..., 2, 2, 2]), 'labelset:273:pred': tensor([  0,   0,   0,  ...,   0, 200,   0]), 'labelset:273:ind': tensor([2, 2, 2,  ..., 2, 1, 2]), 'labelset:274:pred': tensor([  0,   0,   0,  ..., 200,   0, 200]), 'labelset:274:ind': tensor([2, 2, 2,  ..., 1, 2, 1]), 'labelset:275:pred': tensor([0, 0, 0,  ..., 0, 0, 0]), 'labelset:275:ind': tensor([2, 2, 2,  ..., 2, 2, 2]), 'labelset:276:pred': tensor([0, 0, 0,  ..., 0, 0, 0]), 'labelset:276:ind': tensor([2, 2, 2,  ..., 2, 2, 2]), 'labelset:277:pred': tensor([  0,   0,   0,  ...,   0, 200,   0]), 'labelset:277:ind': tensor([2, 2, 2,  ..., 2, 1, 2]), 'labelset:278:pred': tensor([  0,   0,   0,  ..., 200,   0,   0]), 'labelset:278:ind': tensor([2, 2, 2,  ..., 1, 2, 2]), 'labelset:279:pred': tensor([0, 0, 0,  ..., 0, 0, 0]), 'labelset:279:ind': tensor([2, 2, 2,  ..., 2, 2, 2]), 'labelset:280:pred': tensor([0, 0, 0,  ..., 0, 0, 0]), 'labelset:280:ind': tensor([2, 2, 2,  ..., 2, 2, 2]), 'labelset:281:pred': tensor([0, 0, 0,  ..., 0, 0, 0]), 'labelset:281:ind': tensor([2, 2, 2,  ..., 2, 2, 2]), 'labelset:282:pred': tensor([0, 0, 0,  ..., 0, 0, 0]), 'labelset:282:ind': tensor([2, 2, 2,  ..., 2, 2, 2]), 'labelset:283:pred': tensor([0, 0, 0,  ..., 0, 0, 0]), 'labelset:283:ind': tensor([2, 2, 2,  ..., 2, 2, 2]), 'labelset:284:pred': tensor([  0,   0,   0,  ..., 200,   0,   0]), 'labelset:284:ind': tensor([2, 2, 2,  ..., 1, 2, 2]), 'labelset:285:pred': tensor([0, 0, 0,  ..., 0, 0, 0]), 'labelset:285:ind': tensor([2, 2, 2,  ..., 2, 2, 2]), 'labelset:286:pred': tensor([0, 0, 0,  ..., 0, 0, 0]), 'labelset:286:ind': tensor([2, 2, 2,  ..., 2, 2, 2]), 'labelset:287:pred': tensor([0, 0, 0,  ..., 0, 0, 0]), 'labelset:287:ind': tensor([2, 2, 2,  ..., 2, 2, 2]), 'labelset:288:pred': tensor([0, 0, 0,  ..., 0, 0, 0]), 'labelset:288:ind': tensor([2, 2, 2,  ..., 2, 2, 2]), 'labelset:289:pred': tensor([0, 0, 0,  ..., 0, 0, 0]), 'labelset:289:ind': tensor([2, 2, 2,  ..., 2, 2, 2]), 'labelset:290:pred': tensor([  0,   0,   0,  ..., 200, 200, 200]), 'labelset:290:ind': tensor([2, 2, 2,  ..., 1, 1, 1]), 'labelset:291:pred': tensor([0, 0, 0,  ..., 0, 0, 0]), 'labelset:291:ind': tensor([2, 2, 2,  ..., 2, 2, 2]), 'labelset:292:pred': tensor([0, 0, 0,  ..., 0, 0, 0]), 'labelset:292:ind': tensor([2, 2, 2,  ..., 2, 2, 2]), 'labelset:293:pred': tensor([  1,   1,   1,  ...,   0, 200,   0]), 'labelset:293:ind': tensor([1, 1, 1,  ..., 2, 1, 2]), 'labelset:294:pred': tensor([0, 0, 0,  ..., 0, 0, 0]), 'labelset:294:ind': tensor([2, 2, 2,  ..., 2, 2, 2]), 'labelset:295:pred': tensor([0, 0, 0,  ..., 0, 0, 0]), 'labelset:295:ind': tensor([2, 2, 2,  ..., 2, 2, 2]), 'labelset:296:pred': tensor([0, 0, 0,  ..., 0, 0, 0]), 'labelset:296:ind': tensor([2, 2, 2,  ..., 2, 2, 2]), 'labelset:297:pred': tensor([0, 0, 0,  ..., 0, 0, 0]), 'labelset:297:ind': tensor([2, 2, 2,  ..., 2, 2, 2]), 'labelset:298:pred': tensor([0, 0, 0,  ..., 0, 0, 0]), 'labelset:298:ind': tensor([2, 2, 2,  ..., 2, 2, 2]), 'labelset:299:pred': tensor([  0,   0,   0,  ...,   0,   0, 200]), 'labelset:299:ind': tensor([2, 2, 2,  ..., 2, 2, 1]), 'labelset:300:pred': tensor([0, 0, 0,  ..., 0, 0, 0]), 'labelset:300:ind': tensor([2, 2, 2,  ..., 2, 2, 2]), 'labelset:301:pred': tensor([0, 0, 0,  ..., 0, 0, 0]), 'labelset:301:ind': tensor([2, 2, 2,  ..., 2, 2, 2]), 'labelset:302:pred': tensor([0, 0, 0,  ..., 0, 0, 0]), 'labelset:302:ind': tensor([2, 2, 2,  ..., 2, 2, 2]), 'labelset:303:pred': tensor([0, 0, 0,  ..., 0, 0, 0]), 'labelset:303:ind': tensor([2, 2, 2,  ..., 2, 2, 2]), 'labelset:304:pred': tensor([0, 0, 0,  ..., 0, 0, 0]), 'labelset:304:ind': tensor([2, 2, 2,  ..., 2, 2, 2]), 'labelset:305:pred': tensor([0, 0, 0,  ..., 0, 0, 0]), 'labelset:305:ind': tensor([2, 2, 2,  ..., 2, 2, 2]), 'labelset:306:pred': tensor([  0,   0,   1,  ..., 200,   0, 200]), 'labelset:306:ind': tensor([2, 2, 1,  ..., 1, 2, 1]), 'labelset:307:pred': tensor([0, 0, 0,  ..., 0, 0, 0]), 'labelset:307:ind': tensor([2, 2, 2,  ..., 2, 2, 2]), 'labelset:308:pred': tensor([  1,   1,   1,  ..., 200, 200, 200]), 'labelset:308:ind': tensor([1, 1, 1,  ..., 1, 1, 1]), 'labelset:309:pred': tensor([0, 0, 0,  ..., 0, 0, 0]), 'labelset:309:ind': tensor([2, 2, 2,  ..., 2, 2, 2]), 'labelset:310:pred': tensor([0, 0, 1,  ..., 0, 0, 0]), 'labelset:310:ind': tensor([2, 2, 1,  ..., 2, 2, 2]), 'labelset:311:pred': tensor([  0,   1,   0,  ...,   0, 200,   0]), 'labelset:311:ind': tensor([2, 1, 2,  ..., 2, 1, 2]), 'labelset:312:pred': tensor([  0,   0,   0,  ...,   0,   0, 200]), 'labelset:312:ind': tensor([2, 2, 2,  ..., 2, 2, 1])}\n"
     ]
    }
   ],
   "source": [
    "print(Y_dict)"
   ]
  },
  {
   "cell_type": "code",
   "execution_count": 31,
   "metadata": {},
   "outputs": [],
   "source": [
    "from metal.mmtl.metal_model import MetalModel\n",
    "from metal.mmtl.slicing.slice_model import SliceModel, SliceRepModel\n",
    "from metal.mmtl.slicing.moe_model import MoEModel\n",
    "# all models to test to test\n",
    "# all_slice_funcs = {\"slice_1\": slice_1, \"slice_2\": slice_2, \"BASE\": identity_fn}\n",
    "slice_train_attrs = ['23', '24']\n",
    "slice_train_funcs = {attr : slice_fns[attr] for attr in slice_train_attrs}\n",
    "identity_fn = lambda x: np.ones(x.shape[0], dtype=np.bool)\n",
    "slice_train_funcs['BASE'] = identity_fn\n",
    "slice_loss_multiplier = 1.0 / (2*len(slice_train_funcs))\n",
    "slice_weights = {attr:slice_loss_multiplier for attr in slice_train_attrs}\n",
    "slice_weights_w_base = dict(slice_weights)\n",
    "slice_weights_w_base['BASE'] = slice_loss_multiplier\n",
    "model_configs = {\n",
    "#     'soft_param': {\n",
    "#         'slice_funcs': slice_train_funcs,\n",
    "#         'create_ind': True,\n",
    "#         'model_class': SliceModel,\n",
    "#         'slice_weights' : slice_weights_w_base\n",
    "# #         'slice_weights': {\n",
    "# #             'BASE': slice_loss_multiplier,\n",
    "# #             'slice_1': slice_loss_multiplier, 'slice_2': slice_loss_multiplier\n",
    "# #         }\n",
    "#     },   \n",
    "    'soft_param_rep': {\n",
    "        'slice_funcs': slice_train_funcs,\n",
    "        'create_ind': True,\n",
    "        'create_preds': False,\n",
    "        'model_class': SliceRepModel,\n",
    "        'slice_weights' : slice_weights_w_base,\n",
    "#         'slice_weights': {\n",
    "#             'BASE': slice_loss_multiplier,\n",
    "#             'slice_1': slice_loss_multiplier, 'slice_2': slice_loss_multiplier\n",
    "#         },\n",
    "        'h_dim': 2\n",
    "    },\n",
    "    'hard_param': {\n",
    "        'slice_funcs': slice_train_funcs,\n",
    "        'create_ind': False,\n",
    "        'model_class': MetalModel,\n",
    "        'slice_weights' : slice_weights\n",
    "        #'slice_weights': {'slice_1': slice_loss_multiplier, 'slice_2': slice_loss_multiplier}\n",
    "    },\n",
    "#     'manual_reweighting': {\n",
    "#         'slice_funcs': slice_train_funcs,\n",
    "#         'create_ind': False,\n",
    "#         'slice_weights': {\"slice_1\": 50}, # 10x weight of slice_2, everything else default\n",
    "#         'model_class': MetalModel        \n",
    "#     },\n",
    "#     'moe': {\n",
    "#         'slice_funcs': {},\n",
    "#         'create_ind': False,\n",
    "#         'model_class': MoEModel\n",
    "#     },\n",
    "#     'naive': {\n",
    "#         'slice_funcs': {},\n",
    "#         'model_class': MetalModel   \n",
    "#     }\n",
    "}"
   ]
  },
  {
   "cell_type": "code",
   "execution_count": 34,
   "metadata": {},
   "outputs": [
    {
     "name": "stdout",
     "output_type": "stream",
     "text": [
      "==========Initializing + Training soft_param_rep==========\n"
     ]
    },
    {
     "ename": "ValueError",
     "evalue": "There must be a `slice_task` designated to operate on the entire labelset with name 'BirdClassificationTask:BASE'.",
     "output_type": "error",
     "traceback": [
      "\u001b[0;31m---------------------------------------------------------------------------\u001b[0m",
      "\u001b[0;31mValueError\u001b[0m                                Traceback (most recent call last)",
      "\u001b[0;32m<ipython-input-34-b233158aaca3>\u001b[0m in \u001b[0;36m<module>\u001b[0;34m\u001b[0m\n\u001b[1;32m     28\u001b[0m         \u001b[0mmetrics_dict\u001b[0m \u001b[0;34m=\u001b[0m \u001b[0mtrainer\u001b[0m\u001b[0;34m.\u001b[0m\u001b[0mtrain_model\u001b[0m\u001b[0;34m(\u001b[0m\u001b[0mmodel\u001b[0m\u001b[0;34m,\u001b[0m \u001b[0mpayloads\u001b[0m\u001b[0;34m,\u001b[0m \u001b[0;34m**\u001b[0m\u001b[0mexpert_train_kwargs\u001b[0m\u001b[0;34m)\u001b[0m\u001b[0;34m\u001b[0m\u001b[0;34m\u001b[0m\u001b[0m\n\u001b[1;32m     29\u001b[0m     \u001b[0;32melse\u001b[0m\u001b[0;34m:\u001b[0m\u001b[0;34m\u001b[0m\u001b[0;34m\u001b[0m\u001b[0m\n\u001b[0;32m---> 30\u001b[0;31m         \u001b[0mmodel\u001b[0m \u001b[0;34m=\u001b[0m \u001b[0mmodel_class\u001b[0m\u001b[0;34m(\u001b[0m\u001b[0mtasks\u001b[0m\u001b[0;34m,\u001b[0m \u001b[0mh_dim\u001b[0m\u001b[0;34m=\u001b[0m\u001b[0mh_dim\u001b[0m\u001b[0;34m,\u001b[0m \u001b[0mverbose\u001b[0m\u001b[0;34m=\u001b[0m\u001b[0;32mTrue\u001b[0m\u001b[0;34m)\u001b[0m\u001b[0;34m\u001b[0m\u001b[0;34m\u001b[0m\u001b[0m\n\u001b[0m\u001b[1;32m     31\u001b[0m         \u001b[0mtrainer\u001b[0m \u001b[0;34m=\u001b[0m \u001b[0mMultitaskTrainer\u001b[0m\u001b[0;34m(\u001b[0m\u001b[0;34m)\u001b[0m\u001b[0;34m\u001b[0m\u001b[0;34m\u001b[0m\u001b[0m\n\u001b[1;32m     32\u001b[0m         \u001b[0mmetrics_dict\u001b[0m \u001b[0;34m=\u001b[0m \u001b[0mtrainer\u001b[0m\u001b[0;34m.\u001b[0m\u001b[0mtrain_model\u001b[0m\u001b[0;34m(\u001b[0m\u001b[0mmodel\u001b[0m\u001b[0;34m,\u001b[0m \u001b[0mpayloads\u001b[0m\u001b[0;34m,\u001b[0m \u001b[0;34m**\u001b[0m\u001b[0mtrain_kwargs\u001b[0m\u001b[0;34m)\u001b[0m\u001b[0;34m\u001b[0m\u001b[0;34m\u001b[0m\u001b[0m\n",
      "\u001b[0;32m/dfs/scratch1/saelig/slicing/metal/metal/mmtl/slicing/slice_model.py\u001b[0m in \u001b[0;36m__init__\u001b[0;34m(self, tasks, h_dim, **kwargs)\u001b[0m\n\u001b[1;32m    240\u001b[0m \u001b[0;34m\u001b[0m\u001b[0m\n\u001b[1;32m    241\u001b[0m     \u001b[0;32mdef\u001b[0m \u001b[0m__init__\u001b[0m\u001b[0;34m(\u001b[0m\u001b[0mself\u001b[0m\u001b[0;34m,\u001b[0m \u001b[0mtasks\u001b[0m\u001b[0;34m,\u001b[0m \u001b[0mh_dim\u001b[0m\u001b[0;34m=\u001b[0m\u001b[0;32mNone\u001b[0m\u001b[0;34m,\u001b[0m \u001b[0;34m**\u001b[0m\u001b[0mkwargs\u001b[0m\u001b[0;34m)\u001b[0m\u001b[0;34m:\u001b[0m\u001b[0;34m\u001b[0m\u001b[0;34m\u001b[0m\u001b[0m\n\u001b[0;32m--> 242\u001b[0;31m         \u001b[0mvalidate_slice_tasks\u001b[0m\u001b[0;34m(\u001b[0m\u001b[0mtasks\u001b[0m\u001b[0;34m)\u001b[0m\u001b[0;34m\u001b[0m\u001b[0;34m\u001b[0m\u001b[0m\n\u001b[0m\u001b[1;32m    243\u001b[0m         \u001b[0msuper\u001b[0m\u001b[0;34m(\u001b[0m\u001b[0;34m)\u001b[0m\u001b[0;34m.\u001b[0m\u001b[0m__init__\u001b[0m\u001b[0;34m(\u001b[0m\u001b[0mtasks\u001b[0m\u001b[0;34m,\u001b[0m \u001b[0;34m**\u001b[0m\u001b[0mkwargs\u001b[0m\u001b[0;34m)\u001b[0m\u001b[0;34m\u001b[0m\u001b[0;34m\u001b[0m\u001b[0m\n\u001b[1;32m    244\u001b[0m         self.base_task = [\n",
      "\u001b[0;32m/dfs/scratch1/saelig/slicing/metal/metal/mmtl/slicing/slice_model.py\u001b[0m in \u001b[0;36mvalidate_slice_tasks\u001b[0;34m(tasks)\u001b[0m\n\u001b[1;32m     67\u001b[0m     \u001b[0;32mif\u001b[0m \u001b[0;32mnot\u001b[0m \u001b[0many\u001b[0m\u001b[0;34m(\u001b[0m\u001b[0;34m[\u001b[0m\u001b[0;34m\":BASE\"\u001b[0m \u001b[0;32min\u001b[0m \u001b[0mt\u001b[0m\u001b[0;34m.\u001b[0m\u001b[0mname\u001b[0m \u001b[0;32mfor\u001b[0m \u001b[0mt\u001b[0m \u001b[0;32min\u001b[0m \u001b[0mslice_tasks\u001b[0m\u001b[0;34m]\u001b[0m\u001b[0;34m)\u001b[0m\u001b[0;34m:\u001b[0m\u001b[0;34m\u001b[0m\u001b[0;34m\u001b[0m\u001b[0m\n\u001b[1;32m     68\u001b[0m         raise ValueError(\n\u001b[0;32m---> 69\u001b[0;31m             \u001b[0;34m\"There must be a `slice_task` designated to operate \"\u001b[0m\u001b[0;34m\u001b[0m\u001b[0;34m\u001b[0m\u001b[0m\n\u001b[0m\u001b[1;32m     70\u001b[0m             \u001b[0;34mf\"on the entire labelset with name '{base_task.name}:BASE'.\"\u001b[0m\u001b[0;34m\u001b[0m\u001b[0;34m\u001b[0m\u001b[0m\n\u001b[1;32m     71\u001b[0m         )\n",
      "\u001b[0;31mValueError\u001b[0m: There must be a `slice_task` designated to operate on the entire labelset with name 'BirdClassificationTask:BASE'."
     ]
    }
   ],
   "source": [
    "from metal.mmtl.slicing.tasks import MultiClassificationTask\n",
    "trained_models = {}\n",
    "for model_name, config in model_configs.items():\n",
    "    pretrained_input_module = model.input_modules['BirdClassificationTask'].module.module\n",
    "    pretrained_head_module = model.head_modules['BirdClassificationTask'].module.module\n",
    "    task0 = MultiClassificationTask(name=task_name, \\\n",
    "                                    input_module=pretrained_input_module, head_module=pretrained_head_module)\n",
    "    tasks = [task0]\n",
    "    print(f\"{'='*10}Initializing + Training {model_name}{'='*10}\")\n",
    "    slice_funcs = config['slice_funcs']\n",
    "    model_class = config['model_class']\n",
    "    slice_weights = config.get(\"slice_weights\", {})\n",
    "    create_ind = config.get(\"create_ind\", True)\n",
    "    create_preds = config.get(\"create_preds\", True)\n",
    "    h_dim = config.get(\"h_dim\", None)\n",
    "    # just the one task\n",
    "    #get payloads from above\n",
    "        \n",
    "    if model_name == 'moe':\n",
    "        # train for same total num epochs\n",
    "        expert_train_kwargs = copy.deepcopy(train_kwargs)\n",
    "        expert_train_kwargs['n_epochs'] = int(train_kwargs['n_epochs'] / (len(all_slice_funcs) + 1))\n",
    "        experts = train_slice_experts(\n",
    "            uid_lists, Xs, Ys, MetalModel, all_slice_funcs, **expert_train_kwargs\n",
    "        )\n",
    "        model = model_class(tasks, experts, verbose=False, seed=seed)\n",
    "        trainer = MultitaskTrainer(seed=seed)\n",
    "        metrics_dict = trainer.train_model(model, payloads, **expert_train_kwargs)\n",
    "    else:\n",
    "        model = model_class(tasks, h_dim=h_dim, verbose=True)\n",
    "        trainer = MultitaskTrainer()\n",
    "        metrics_dict = trainer.train_model(model, payloads, **train_kwargs)\n",
    "    print(metrics_dict) \n",
    "    trained_models[model_name] = model"
   ]
  },
  {
   "cell_type": "code",
   "execution_count": null,
   "metadata": {},
   "outputs": [],
   "source": []
  }
 ],
 "metadata": {
  "kernelspec": {
   "display_name": "Python 3",
   "language": "python",
   "name": "python3"
  },
  "language_info": {
   "codemirror_mode": {
    "name": "ipython",
    "version": 3
   },
   "file_extension": ".py",
   "mimetype": "text/x-python",
   "name": "python",
   "nbconvert_exporter": "python",
   "pygments_lexer": "ipython3",
   "version": "3.6.7"
  }
 },
 "nbformat": 4,
 "nbformat_minor": 2
}
