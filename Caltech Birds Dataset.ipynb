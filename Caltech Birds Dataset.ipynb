{
 "cells": [
  {
   "cell_type": "code",
   "execution_count": 1,
   "metadata": {},
   "outputs": [],
   "source": [
    "import sys\n",
    "import metal\n",
    "import os\n",
    "# Import other dependencies\n",
    "import torch\n",
    "import torch.nn as nn\n",
    "import torch.nn.functional as F\n",
    "\n",
    "# Set random seed for notebook\n",
    "SEED = 123"
   ]
  },
  {
   "cell_type": "code",
   "execution_count": 75,
   "metadata": {},
   "outputs": [
    {
     "name": "stdout",
     "output_type": "stream",
     "text": [
      "The autoreload extension is already loaded. To reload it, use:\n",
      "  %reload_ext autoreload\n"
     ]
    }
   ],
   "source": [
    "%load_ext autoreload\n",
    "%autoreload 2\n",
    "%matplotlib inline"
   ]
  },
  {
   "cell_type": "markdown",
   "metadata": {},
   "source": [
    "# Load Data\n",
    "\n",
    "Here, the train/test split was defined in the dataset. We then split the train set into a train/valid (see next cell)"
   ]
  },
  {
   "cell_type": "code",
   "execution_count": 41,
   "metadata": {},
   "outputs": [],
   "source": [
    "from skimage import io, transform\n",
    "import numpy as np\n",
    "DATASET_DIR = '/lfs/1/saelig/CUB_200_2011/'\n",
    "IMAGES_DIR = os.path.join(DATASET_DIR, 'images')\n",
    "\n",
    "#Size of eac\n",
    "image_list = np.loadtxt(os.path.join(DATASET_DIR, 'images.txt'), dtype=str)\n",
    "train_test_split = np.loadtxt(os.path.join(DATASET_DIR, 'train_test_split.txt'), dtype=int)\n",
    "labels = np.loadtxt(os.path.join(DATASET_DIR, 'image_class_labels.txt'), dtype=int)\n",
    "\n",
    "X = []\n",
    "Y = []\n",
    "X_test = []\n",
    "Y_test = []\n",
    "\n",
    "#image size (332, 500, 3)\n",
    "\n",
    "for image_id, image_file in image_list:\n",
    "    image_id = int(image_id)\n",
    "    image_data = io.imread(os.path.join(IMAGES_DIR, image_file))\n",
    "    image_data = transform.resize(image_data, (32,32,3)) #resize all images to 32x32\n",
    "    label = labels[image_id - 1][1]\n",
    "    if train_test_split[image_id - 1][1] == 1: #put in train\n",
    "        X.append(image_data)\n",
    "        Y.append(label)\n",
    "    else: #put in test\n",
    "        X_test.append(image_data)\n",
    "        Y_test.append(label)\n",
    "\n",
    "X_train = np.stack(X)\n",
    "Y_train = np.array(Y)\n",
    "X_test = np.stack(X_test)\n",
    "Y_test = np.array(Y_test)"
   ]
  },
  {
   "cell_type": "markdown",
   "metadata": {},
   "source": [
    "Now let's convert all the data to numpy arrays, and create a validation set."
   ]
  },
  {
   "cell_type": "code",
   "execution_count": 67,
   "metadata": {},
   "outputs": [],
   "source": [
    "from metal.utils import split_data\n",
    "X_train = np.stack(X)\n",
    "Y_train = np.array(Y)\n",
    "\n",
    "(X_train, X_valid), (Y_train, Y_valid) = split_data(X_train, Y_train, splits=[0.8,0.2], seed=SEED)\n",
    "X_test = np.stack(X_test)\n",
    "Y_test = np.array(Y_test)"
   ]
  },
  {
   "cell_type": "markdown",
   "metadata": {},
   "source": [
    "Create a task. Use a resnet50 for now as our input model. Since the resnet already includes the fully connected layer, we don't specify a `head_module`, which defaults to the identity."
   ]
  },
  {
   "cell_type": "code",
   "execution_count": 87,
   "metadata": {},
   "outputs": [],
   "source": [
    "from torchvision.models.resnet import *\n",
    "from metal.mmtl.slicing.tasks import MultiClassificationTask\n",
    "from metal.mmtl.metal_model import MetalModel \n",
    "\n",
    "model = resnet50(num_classes=200)\n",
    "\n",
    "task0 = MultiClassificationTask(\n",
    "    name='BirdClassificationTaask', \n",
    "    input_module=resnet50, \n",
    ")\n",
    "tasks = [task0]\n",
    "model = MetalModel(tasks, verbose=False)"
   ]
  },
  {
   "cell_type": "markdown",
   "metadata": {},
   "source": [
    "Create payload abstraction for our train/valid/test sets."
   ]
  },
  {
   "cell_type": "code",
   "execution_count": 96,
   "metadata": {},
   "outputs": [],
   "source": [
    "from metal.mmtl.payload import Payload\n",
    "\n",
    "payloads = []\n",
    "splits = [\"train\", \"valid\", \"test\"]\n",
    "X_splits = X_train, X_valid, X_test\n",
    "Y_splits = Y_train, Y_valid, Y_test\n",
    "\n",
    "for i in range(3):\n",
    "    payload_name = f\"Payload{i}_{splits[i]}\"\n",
    "    task_name = task0.name\n",
    "    payload = Payload.from_tensors(payload_name, X_splits[i], Y_splits[i], task_name, splits[i], batch_size=32)\n",
    "    payloads.append(payload)"
   ]
  }
 ],
 "metadata": {
  "kernelspec": {
   "display_name": "Python 3",
   "language": "python",
   "name": "python3"
  },
  "language_info": {
   "codemirror_mode": {
    "name": "ipython",
    "version": 3
   },
   "file_extension": ".py",
   "mimetype": "text/x-python",
   "name": "python",
   "nbconvert_exporter": "python",
   "pygments_lexer": "ipython3",
   "version": "3.6.7"
  }
 },
 "nbformat": 4,
 "nbformat_minor": 2
}
